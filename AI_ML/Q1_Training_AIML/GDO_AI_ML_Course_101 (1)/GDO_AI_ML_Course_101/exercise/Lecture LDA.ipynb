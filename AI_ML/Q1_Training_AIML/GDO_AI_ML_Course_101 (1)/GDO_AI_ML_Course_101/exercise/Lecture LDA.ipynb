{
 "cells": [
  {
   "cell_type": "code",
   "execution_count": 1,
   "metadata": {},
   "outputs": [
    {
     "name": "stdout",
     "output_type": "stream",
     "text": [
      "['rec.autos' 'comp.sys.mac.hardware' 'rec.motorcycles' 'misc.forsale'\n",
      " 'comp.os.ms-windows.misc' 'alt.atheism' 'comp.graphics'\n",
      " 'rec.sport.baseball' 'rec.sport.hockey' 'sci.electronics' 'sci.space'\n",
      " 'talk.politics.misc' 'sci.med' 'talk.politics.mideast'\n",
      " 'soc.religion.christian' 'comp.windows.x' 'comp.sys.ibm.pc.hardware'\n",
      " 'talk.politics.guns' 'talk.religion.misc' 'sci.crypt']\n"
     ]
    },
    {
     "data": {
      "text/html": [
       "<div>\n",
       "<style scoped>\n",
       "    .dataframe tbody tr th:only-of-type {\n",
       "        vertical-align: middle;\n",
       "    }\n",
       "\n",
       "    .dataframe tbody tr th {\n",
       "        vertical-align: top;\n",
       "    }\n",
       "\n",
       "    .dataframe thead th {\n",
       "        text-align: right;\n",
       "    }\n",
       "</style>\n",
       "<table border=\"1\" class=\"dataframe\">\n",
       "  <thead>\n",
       "    <tr style=\"text-align: right;\">\n",
       "      <th></th>\n",
       "      <th>content</th>\n",
       "      <th>target</th>\n",
       "      <th>target_names</th>\n",
       "    </tr>\n",
       "  </thead>\n",
       "  <tbody>\n",
       "    <tr>\n",
       "      <th>0</th>\n",
       "      <td>From: lerxst@wam.umd.edu (where's my thing)\\nS...</td>\n",
       "      <td>7</td>\n",
       "      <td>rec.autos</td>\n",
       "    </tr>\n",
       "    <tr>\n",
       "      <th>1</th>\n",
       "      <td>From: guykuo@carson.u.washington.edu (Guy Kuo)...</td>\n",
       "      <td>4</td>\n",
       "      <td>comp.sys.mac.hardware</td>\n",
       "    </tr>\n",
       "    <tr>\n",
       "      <th>10</th>\n",
       "      <td>From: irwin@cmptrc.lonestar.org (Irwin Arnstei...</td>\n",
       "      <td>8</td>\n",
       "      <td>rec.motorcycles</td>\n",
       "    </tr>\n",
       "    <tr>\n",
       "      <th>100</th>\n",
       "      <td>From: tchen@magnus.acs.ohio-state.edu (Tsung-K...</td>\n",
       "      <td>6</td>\n",
       "      <td>misc.forsale</td>\n",
       "    </tr>\n",
       "    <tr>\n",
       "      <th>1000</th>\n",
       "      <td>From: dabl2@nlm.nih.gov (Don A.B. Lindbergh)\\n...</td>\n",
       "      <td>2</td>\n",
       "      <td>comp.os.ms-windows.misc</td>\n",
       "    </tr>\n",
       "  </tbody>\n",
       "</table>\n",
       "</div>"
      ],
      "text/plain": [
       "                                                content  target  \\\n",
       "0     From: lerxst@wam.umd.edu (where's my thing)\\nS...       7   \n",
       "1     From: guykuo@carson.u.washington.edu (Guy Kuo)...       4   \n",
       "10    From: irwin@cmptrc.lonestar.org (Irwin Arnstei...       8   \n",
       "100   From: tchen@magnus.acs.ohio-state.edu (Tsung-K...       6   \n",
       "1000  From: dabl2@nlm.nih.gov (Don A.B. Lindbergh)\\n...       2   \n",
       "\n",
       "                 target_names  \n",
       "0                   rec.autos  \n",
       "1       comp.sys.mac.hardware  \n",
       "10            rec.motorcycles  \n",
       "100              misc.forsale  \n",
       "1000  comp.os.ms-windows.misc  "
      ]
     },
     "execution_count": 1,
     "metadata": {},
     "output_type": "execute_result"
    }
   ],
   "source": [
    "import pandas as pd\n",
    "# Import Dataset\n",
    "df = pd.read_json('https://raw.githubusercontent.com/selva86/datasets/master/newsgroups.json')\n",
    "print(df.target_names.unique())\n",
    "df.head()"
   ]
  },
  {
   "cell_type": "code",
   "execution_count": 5,
   "metadata": {},
   "outputs": [
    {
     "name": "stdout",
     "output_type": "stream",
     "text": [
      "['From: (wheres my thing) Subject: WHAT car is this!? Nntp-Posting-Host: rac3.wam.umd.edu Organization: University of Maryland, College Park Lines: 15 I was wondering if anyone out there could enlighten me on this car I saw the other day. It was a 2-door sports car, looked to be from the late 60s/ early 70s. It was called a Bricklin. The doors were really small. In addition, the front bumper was separate from the rest of the body. This is all I know. If anyone can tellme a model name, engine specs, years of production, where this car is made, history, or whatever info you have on this funky looking car, please e-mail. Thanks, - IL ---- brought to you by your neighborhood Lerxst ---- ']\n"
     ]
    }
   ],
   "source": [
    "import re\n",
    "\n",
    "# Convert to list\n",
    "data = df.content.values.tolist()\n",
    "\n",
    "# Remove Emails\n",
    "data = [re.sub('\\S*@\\S*\\s?', '', sent) for sent in data]\n",
    "\n",
    "# Remove new line characters\n",
    "data = [re.sub('\\s+', ' ', sent) for sent in data]\n",
    "\n",
    "# Remove distracting single quotes\n",
    "data = [re.sub(\"\\'\", \"\", sent) for sent in data]\n",
    "print(data[:1])\n"
   ]
  },
  {
   "cell_type": "code",
   "execution_count": 7,
   "metadata": {},
   "outputs": [
    {
     "name": "stdout",
     "output_type": "stream",
     "text": [
      "[['from', 'wheres', 'my', 'thing', 'subject', 'what', 'car', 'is', 'this', 'nntp', 'posting', 'host', 'rac', 'wam', 'umd', 'edu', 'organization', 'university', 'of', 'maryland', 'college', 'park', 'lines', 'was', 'wondering', 'if', 'anyone', 'out', 'there', 'could', 'enlighten', 'me', 'on', 'this', 'car', 'saw', 'the', 'other', 'day', 'it', 'was', 'door', 'sports', 'car', 'looked', 'to', 'be', 'from', 'the', 'late', 'early', 'it', 'was', 'called', 'bricklin', 'the', 'doors', 'were', 'really', 'small', 'in', 'addition', 'the', 'front', 'bumper', 'was', 'separate', 'from', 'the', 'rest', 'of', 'the', 'body', 'this', 'is', 'all', 'know', 'if', 'anyone', 'can', 'tellme', 'model', 'name', 'engine', 'specs', 'years', 'of', 'production', 'where', 'this', 'car', 'is', 'made', 'history', 'or', 'whatever', 'info', 'you', 'have', 'on', 'this', 'funky', 'looking', 'car', 'please', 'mail', 'thanks', 'il', 'brought', 'to', 'you', 'by', 'your', 'neighborhood', 'lerxst']]\n"
     ]
    }
   ],
   "source": [
    "import gensim\n",
    "import gensim.corpora as corpora\n",
    "from gensim.utils import simple_preprocess\n",
    "from gensim.models import CoherenceModel\n",
    "\n",
    "def sent_to_words(sentences):\n",
    "    for sentence in sentences:\n",
    "        yield(gensim.utils.simple_preprocess(str(sentence), deacc=True))  # deacc=True removes punctuations\n",
    "\n",
    "data_words = list(sent_to_words(data))\n",
    "\n",
    "print(data_words[:1])"
   ]
  },
  {
   "cell_type": "code",
   "execution_count": 9,
   "metadata": {},
   "outputs": [
    {
     "name": "stdout",
     "output_type": "stream",
     "text": [
      "[[(0, 1), (1, 1), (2, 2), (3, 1), (4, 1), (5, 1), (6, 1), (7, 1), (8, 1), (9, 1), (10, 1), (11, 5), (12, 1), (13, 1), (14, 1), (15, 1), (16, 1), (17, 1), (18, 1), (19, 1), (20, 1), (21, 3), (22, 1), (23, 1), (24, 1), (25, 1), (26, 1), (27, 2), (28, 1), (29, 1), (30, 1), (31, 3), (32, 2), (33, 1), (34, 1), (35, 1), (36, 1), (37, 1), (38, 1), (39, 1), (40, 1), (41, 1), (42, 1), (43, 1), (44, 1), (45, 1), (46, 1), (47, 1), (48, 3), (49, 2), (50, 1), (51, 1), (52, 1), (53, 1), (54, 1), (55, 1), (56, 1), (57, 1), (58, 1), (59, 1), (60, 1), (61, 1), (62, 1), (63, 1), (64, 1), (65, 1), (66, 1), (67, 1), (68, 1), (69, 6), (70, 1), (71, 1), (72, 5), (73, 2), (74, 1), (75, 1), (76, 1), (77, 4), (78, 1), (79, 1), (80, 1), (81, 1), (82, 1), (83, 1), (84, 1), (85, 2), (86, 1)]]\n"
     ]
    }
   ],
   "source": [
    "# Create Dictionary\n",
    "id2word = corpora.Dictionary(data_words)\n",
    "\n",
    "# Create Corpus\n",
    "texts = data_words\n",
    "\n",
    "# Term Document Frequency\n",
    "corpus = [id2word.doc2bow(text) for text in texts]\n",
    "\n",
    "# View\n",
    "print(corpus[:1])"
   ]
  },
  {
   "cell_type": "code",
   "execution_count": 10,
   "metadata": {},
   "outputs": [
    {
     "data": {
      "text/plain": [
       "[[('addition', 1),\n",
       "  ('all', 1),\n",
       "  ('anyone', 2),\n",
       "  ('be', 1),\n",
       "  ('body', 1),\n",
       "  ('bricklin', 1),\n",
       "  ('brought', 1),\n",
       "  ('bumper', 1),\n",
       "  ('by', 1),\n",
       "  ('called', 1),\n",
       "  ('can', 1),\n",
       "  ('car', 5),\n",
       "  ('college', 1),\n",
       "  ('could', 1),\n",
       "  ('day', 1),\n",
       "  ('door', 1),\n",
       "  ('doors', 1),\n",
       "  ('early', 1),\n",
       "  ('edu', 1),\n",
       "  ('engine', 1),\n",
       "  ('enlighten', 1),\n",
       "  ('from', 3),\n",
       "  ('front', 1),\n",
       "  ('funky', 1),\n",
       "  ('have', 1),\n",
       "  ('history', 1),\n",
       "  ('host', 1),\n",
       "  ('if', 2),\n",
       "  ('il', 1),\n",
       "  ('in', 1),\n",
       "  ('info', 1),\n",
       "  ('is', 3),\n",
       "  ('it', 2),\n",
       "  ('know', 1),\n",
       "  ('late', 1),\n",
       "  ('lerxst', 1),\n",
       "  ('lines', 1),\n",
       "  ('looked', 1),\n",
       "  ('looking', 1),\n",
       "  ('made', 1),\n",
       "  ('mail', 1),\n",
       "  ('maryland', 1),\n",
       "  ('me', 1),\n",
       "  ('model', 1),\n",
       "  ('my', 1),\n",
       "  ('name', 1),\n",
       "  ('neighborhood', 1),\n",
       "  ('nntp', 1),\n",
       "  ('of', 3),\n",
       "  ('on', 2),\n",
       "  ('or', 1),\n",
       "  ('organization', 1),\n",
       "  ('other', 1),\n",
       "  ('out', 1),\n",
       "  ('park', 1),\n",
       "  ('please', 1),\n",
       "  ('posting', 1),\n",
       "  ('production', 1),\n",
       "  ('rac', 1),\n",
       "  ('really', 1),\n",
       "  ('rest', 1),\n",
       "  ('saw', 1),\n",
       "  ('separate', 1),\n",
       "  ('small', 1),\n",
       "  ('specs', 1),\n",
       "  ('sports', 1),\n",
       "  ('subject', 1),\n",
       "  ('tellme', 1),\n",
       "  ('thanks', 1),\n",
       "  ('the', 6),\n",
       "  ('there', 1),\n",
       "  ('thing', 1),\n",
       "  ('this', 5),\n",
       "  ('to', 2),\n",
       "  ('umd', 1),\n",
       "  ('university', 1),\n",
       "  ('wam', 1),\n",
       "  ('was', 4),\n",
       "  ('were', 1),\n",
       "  ('what', 1),\n",
       "  ('whatever', 1),\n",
       "  ('where', 1),\n",
       "  ('wheres', 1),\n",
       "  ('wondering', 1),\n",
       "  ('years', 1),\n",
       "  ('you', 2),\n",
       "  ('your', 1)]]"
      ]
     },
     "execution_count": 10,
     "metadata": {},
     "output_type": "execute_result"
    }
   ],
   "source": [
    "# Human readable format of corpus (term-frequency)\n",
    "[[(id2word[id], freq) for id, freq in cp] for cp in corpus[:1]]"
   ]
  },
  {
   "cell_type": "code",
   "execution_count": 12,
   "metadata": {},
   "outputs": [],
   "source": [
    "# Build LDA model\n",
    "lda_model = gensim.models.ldamodel.LdaModel(corpus=corpus,\n",
    "                                           id2word=id2word,\n",
    "                                           num_topics=20,\n",
    "                                           minimum_probability = 0,\n",
    "                                           random_state=100,\n",
    "                                           update_every=1,\n",
    "                                           chunksize=100,\n",
    "                                           passes=10,\n",
    "                                           alpha='auto',\n",
    "                                           per_word_topics=True)\n"
   ]
  },
  {
   "cell_type": "code",
   "execution_count": 13,
   "metadata": {},
   "outputs": [
    {
     "name": "stdout",
     "output_type": "stream",
     "text": [
      "[(0,\n",
      "  '0.169*\"windows\" + 0.096*\"dos\" + 0.051*\"ms\" + 0.034*\"os\" + 0.018*\"kit\" + '\n",
      "  '0.016*\"animation\" + 0.009*\"derek\" + 0.008*\"evans\" + 0.008*\"developers\" + '\n",
      "  '0.006*\"trident\"'),\n",
      " (1,\n",
      "  '0.057*\"lines\" + 0.056*\"subject\" + 0.055*\"organization\" + 0.054*\"from\" + '\n",
      "  '0.035*\"re\" + 0.030*\"university\" + 0.029*\"posting\" + 0.028*\"article\" + '\n",
      "  '0.027*\"for\" + 0.027*\"writes\"'),\n",
      " (2,\n",
      "  '0.085*\"card\" + 0.044*\"mb\" + 0.036*\"video\" + 0.035*\"ram\" + 0.030*\"bus\" + '\n",
      "  '0.025*\"mouse\" + 0.025*\"scsi\" + 0.024*\"driver\" + 0.022*\"controller\" + '\n",
      "  '0.020*\"mhz\"'),\n",
      " (3,\n",
      "  '0.083*\"chips\" + 0.018*\"sam\" + 0.014*\"vw\" + 0.009*\"um\" + 0.008*\"ross\" + '\n",
      "  '0.001*\"perot\" + 0.000*\"simm\" + 0.000*\"tl\" + 0.000*\"dram\" + 0.000*\"pu\"'),\n",
      " (4,\n",
      "  '0.047*\"the\" + 0.035*\"and\" + 0.031*\"to\" + 0.030*\"for\" + 0.020*\"on\" + '\n",
      "  '0.019*\"is\" + 0.016*\"with\" + 0.013*\"use\" + 0.012*\"or\" + 0.011*\"of\"'),\n",
      " (5,\n",
      "  '0.084*\"car\" + 0.034*\"cars\" + 0.034*\"engine\" + 0.026*\"gay\" + '\n",
      "  '0.020*\"spacecraft\" + 0.020*\"marriage\" + 0.020*\"vax\" + 0.015*\"sexual\" + '\n",
      "  '0.015*\"solar\" + 0.015*\"sex\"'),\n",
      " (6,\n",
      "  '0.055*\"team\" + 0.048*\"hockey\" + 0.046*\"game\" + 0.033*\"season\" + 0.030*\"win\" '\n",
      "  '+ 0.029*\"vs\" + 0.029*\"year\" + 0.028*\"play\" + 0.023*\"teams\" + 0.020*\"will\"'),\n",
      " (7,\n",
      "  '0.085*\"the\" + 0.053*\"of\" + 0.046*\"to\" + 0.031*\"is\" + 0.030*\"and\" + '\n",
      "  '0.029*\"that\" + 0.029*\"in\" + 0.017*\"you\" + 0.016*\"it\" + 0.015*\"not\"'),\n",
      " (8,\n",
      "  '0.027*\"baltimore\" + 0.004*\"needing\" + 0.000*\"gm\" + 0.000*\"providence\" + '\n",
      "  '0.000*\"adirondack\" + 0.000*\"rochester\" + 0.000*\"utica\" + '\n",
      "  '0.000*\"springfield\" + 0.000*\"moncton\" + 0.000*\"binghamton\"'),\n",
      " (9,\n",
      "  '0.033*\"st\" + 0.032*\"pittsburgh\" + 0.031*\"chicago\" + 0.030*\"health\" + '\n",
      "  '0.026*\"insurance\" + 0.026*\"washington\" + 0.025*\"new\" + 0.025*\"cover\" + '\n",
      "  '0.024*\"april\" + 0.022*\"period\"'),\n",
      " (10,\n",
      "  '0.061*\"circuit\" + 0.037*\"ted\" + 0.037*\"tony\" + 0.032*\"edward\" + '\n",
      "  '0.018*\"myers\" + 0.016*\"ic\" + 0.013*\"curtis\" + 0.012*\"valentine\" + '\n",
      "  '0.012*\"jackson\" + 0.011*\"fischer\"'),\n",
      " (11,\n",
      "  '0.033*\"the\" + 0.025*\"government\" + 0.018*\"key\" + 0.017*\"law\" + '\n",
      "  '0.015*\"president\" + 0.013*\"gun\" + 0.012*\"of\" + 0.012*\"and\" + 0.011*\"chip\" + '\n",
      "  '0.011*\"will\"'),\n",
      " (12,\n",
      "  '0.000*\"nhs\" + 0.000*\"ndp\" + 0.000*\"adage\" + 0.000*\"acegr\" + 0.000*\"sojo\" + '\n",
      "  '0.000*\"redefined\" + 0.000*\"ops\" + 0.000*\"onbase\" + 0.000*\"allegro\" + '\n",
      "  '0.000*\"neb\"'),\n",
      " (13,\n",
      "  '0.000*\"nhs\" + 0.000*\"ndp\" + 0.000*\"adage\" + 0.000*\"acegr\" + 0.000*\"sojo\" + '\n",
      "  '0.000*\"redefined\" + 0.000*\"ops\" + 0.000*\"onbase\" + 0.000*\"allegro\" + '\n",
      "  '0.000*\"neb\"'),\n",
      " (14,\n",
      "  '0.897*\"ax\" + 0.005*\"below\" + 0.004*\"uucp\" + 0.003*\"se\" + 0.003*\"iii\" + '\n",
      "  '0.002*\"dallas\" + 0.002*\"as\" + 0.002*\"wing\" + 0.002*\"app\" + 0.002*\"johns\"'),\n",
      " (15,\n",
      "  '0.202*\"space\" + 0.050*\"nasa\" + 0.033*\"orbit\" + 0.029*\"morning\" + '\n",
      "  '0.027*\"gov\" + 0.027*\"earth\" + 0.027*\"station\" + 0.025*\"flight\" + '\n",
      "  '0.020*\"satellite\" + 0.020*\"billion\"'),\n",
      " (16,\n",
      "  '0.370*\"max\" + 0.082*\"pl\" + 0.043*\"newsreader\" + 0.037*\"tin\" + 0.022*\"jeff\" '\n",
      "  '+ 0.018*\"version\" + 0.013*\"hewlett\" + 0.013*\"packard\" + 0.013*\"hp\" + '\n",
      "  '0.012*\"wrote\"'),\n",
      " (17,\n",
      "  '0.127*\"drive\" + 0.045*\"disk\" + 0.044*\"hard\" + 0.040*\"hd\" + 0.034*\"monitor\" '\n",
      "  '+ 0.033*\"uk\" + 0.022*\"illinois\" + 0.020*\"floppy\" + 0.019*\"equipment\" + '\n",
      "  '0.018*\"disks\"'),\n",
      " (18,\n",
      "  '0.048*\"jesus\" + 0.047*\"he\" + 0.047*\"god\" + 0.034*\"his\" + 0.024*\"christian\" '\n",
      "  '+ 0.017*\"him\" + 0.017*\"life\" + 0.017*\"we\" + 0.014*\"bible\" + '\n",
      "  '0.014*\"christians\"'),\n",
      " (19,\n",
      "  '0.057*\"the\" + 0.029*\"and\" + 0.024*\"to\" + 0.022*\"in\" + 0.021*\"was\" + '\n",
      "  '0.020*\"it\" + 0.017*\"on\" + 0.016*\"my\" + 0.013*\"they\" + 0.013*\"he\"')]\n"
     ]
    }
   ],
   "source": [
    "from pprint import pprint\n",
    "# Print the Keyword in the 10 topics\n",
    "pprint(lda_model.print_topics())\n",
    "doc_lda = lda_model[corpus]"
   ]
  },
  {
   "cell_type": "code",
   "execution_count": null,
   "metadata": {},
   "outputs": [],
   "source": []
  }
 ],
 "metadata": {
  "kernelspec": {
   "display_name": "Python 3",
   "language": "python",
   "name": "python3"
  },
  "language_info": {
   "codemirror_mode": {
    "name": "ipython",
    "version": 3
   },
   "file_extension": ".py",
   "mimetype": "text/x-python",
   "name": "python",
   "nbconvert_exporter": "python",
   "pygments_lexer": "ipython3",
   "version": "3.7.3"
  }
 },
 "nbformat": 4,
 "nbformat_minor": 2
}
