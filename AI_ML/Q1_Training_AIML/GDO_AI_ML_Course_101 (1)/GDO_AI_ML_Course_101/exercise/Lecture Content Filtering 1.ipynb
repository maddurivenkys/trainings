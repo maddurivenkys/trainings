{
 "cells": [
  {
   "cell_type": "code",
   "execution_count": 1,
   "metadata": {},
   "outputs": [],
   "source": [
    "import pandas as pd\n",
    "from sklearn.feature_extraction.text import TfidfVectorizer\n",
    "from sklearn.metrics.pairwise import linear_kernel \n",
    "ds = pd.read_csv(r\"C:\\Users\\e1077926\\data\\recommendation\\items_description.csv\")"
   ]
  },
  {
   "cell_type": "code",
   "execution_count": 2,
   "metadata": {},
   "outputs": [
    {
     "data": {
      "text/plain": [
       "0    Active classic boxers - There's a reason why o...\n",
       "1    Active sport boxer briefs - Skinning up Glory ...\n",
       "2    Active sport briefs - These superbreathable no...\n",
       "3    Alpine guide pants - Skin in, climb ice, switc...\n",
       "4    Alpine wind jkt - On high ridges, steep ice an...\n",
       "Name: description, dtype: object"
      ]
     },
     "execution_count": 2,
     "metadata": {},
     "output_type": "execute_result"
    }
   ],
   "source": [
    "ds['description'].head()"
   ]
  },
  {
   "cell_type": "code",
   "execution_count": 3,
   "metadata": {},
   "outputs": [],
   "source": [
    "tf = TfidfVectorizer(analyzer='word', ngram_range=(1, 3), min_df=0, stop_words='english')\n",
    "tfidf_matrix = tf.fit_transform(ds['description'])"
   ]
  },
  {
   "cell_type": "code",
   "execution_count": 4,
   "metadata": {},
   "outputs": [
    {
     "name": "stdout",
     "output_type": "stream",
     "text": [
      "  (0, 1880)\t0.045373175530526\n",
      "  (0, 7604)\t0.08164936561151016\n",
      "  (0, 5039)\t0.12977811811850065\n",
      "  (0, 35739)\t0.07549285074439555\n",
      "  (0, 10820)\t0.07080059817388243\n",
      "  (0, 15509)\t0.053831384935318916\n",
      "  (0, 9573)\t0.03613243023524195\n",
      "  (0, 14281)\t0.07549285074439555\n",
      "  (0, 43184)\t0.054757680671552254\n",
      "  (0, 40566)\t0.07080059817388243\n",
      "  (0, 35168)\t0.061628967464446696\n",
      "  (0, 12871)\t0.0321016444812407\n",
      "  (0, 26140)\t0.024148460375077195\n",
      "  (0, 47589)\t0.06488905905925033\n",
      "  (0, 45323)\t0.06747139199323046\n",
      "  (0, 28697)\t0.04943973416853365\n",
      "  (0, 42294)\t0.0514284744909003\n",
      "  (0, 46755)\t0.04626380862294003\n",
      "  (0, 31186)\t0.03693085153490004\n",
      "  (0, 14518)\t0.12199045557679059\n",
      "  (0, 5850)\t0.07077111397714027\n",
      "  (0, 48776)\t0.06288035532945764\n",
      "  (0, 30405)\t0.04053892708329487\n",
      "  (0, 40731)\t0.027274039271138622\n",
      "  (0, 42100)\t0.03693085153490004\n",
      "  :\t:\n",
      "  (499, 39800)\t0.08277307565229246\n",
      "  (499, 35676)\t0.08277307565229246\n",
      "  (499, 8770)\t0.08277307565229246\n",
      "  (499, 18106)\t0.08277307565229246\n",
      "  (499, 49147)\t0.08277307565229246\n",
      "  (499, 9871)\t0.08277307565229246\n",
      "  (499, 6487)\t0.08277307565229246\n",
      "  (499, 50987)\t0.08277307565229246\n",
      "  (499, 19467)\t0.08277307565229246\n",
      "  (499, 51175)\t0.08277307565229246\n",
      "  (499, 2960)\t0.08277307565229246\n",
      "  (499, 22631)\t0.08277307565229246\n",
      "  (499, 36290)\t0.08277307565229246\n",
      "  (499, 47603)\t0.08277307565229246\n",
      "  (499, 13222)\t0.08277307565229246\n",
      "  (499, 42049)\t0.08277307565229246\n",
      "  (499, 46450)\t0.08277307565229246\n",
      "  (499, 15590)\t0.08277307565229246\n",
      "  (499, 12689)\t0.08277307565229246\n",
      "  (499, 33401)\t0.08277307565229246\n",
      "  (499, 24434)\t0.08277307565229246\n",
      "  (499, 16804)\t0.08277307565229246\n",
      "  (499, 5245)\t0.08277307565229246\n",
      "  (499, 50105)\t0.08277307565229246\n",
      "  (499, 754)\t0.08277307565229246\n"
     ]
    }
   ],
   "source": [
    "print(tfidf_matrix)"
   ]
  },
  {
   "cell_type": "code",
   "execution_count": 6,
   "metadata": {},
   "outputs": [],
   "source": [
    "cosine_similarities = linear_kernel(tfidf_matrix, tfidf_matrix) \n",
    "results = {}\n",
    "for idx, row in ds.iterrows():\n",
    "   similar_indices = cosine_similarities[idx].argsort()[:-100:-1] \n",
    "   similar_items = [(cosine_similarities[idx][i], ds['id'][i]) for i in similar_indices] \n",
    "   results[row['id']] = similar_items[1:]"
   ]
  },
  {
   "cell_type": "code",
   "execution_count": 9,
   "metadata": {},
   "outputs": [],
   "source": [
    "def item(id):  \n",
    "  return ds.loc[ds['id'] == id]['description'].tolist()[0].split(' - ')[0] \n",
    "\n",
    "# Just reads the results out of the dictionary.def \n",
    "def recommend(item_id, num):\n",
    "    print(\"Recommending \" + str(num) + \" products similar to \" + item(item_id) + \"...\")   \n",
    "    print(\"-------\")    \n",
    "    recs = results[item_id][:num]   \n",
    "    for rec in recs: \n",
    "       print(\"Recommended: \" + item(rec[1]) + \" (score:\" +      str(rec[0]) + \")\")"
   ]
  },
  {
   "cell_type": "code",
   "execution_count": 10,
   "metadata": {},
   "outputs": [
    {
     "name": "stdout",
     "output_type": "stream",
     "text": [
      "Recommending 5 products similar to Baby sunshade top...\n",
      "-------\n",
      "Recommended: Sunshade hoody (score:0.2133029602108501)\n",
      "Recommended: Baby baggies apron dress (score:0.10975311296284813)\n",
      "Recommended: Runshade t-shirt (score:0.09988151262780706)\n",
      "Recommended: Runshade t-shirt (score:0.09530698241688194)\n",
      "Recommended: Runshade top (score:0.08510550093018401)\n"
     ]
    }
   ],
   "source": [
    "recommend(item_id=11, num=5)"
   ]
  },
  {
   "cell_type": "code",
   "execution_count": null,
   "metadata": {},
   "outputs": [],
   "source": []
  }
 ],
 "metadata": {
  "kernelspec": {
   "display_name": "Python 3",
   "language": "python",
   "name": "python3"
  },
  "language_info": {
   "codemirror_mode": {
    "name": "ipython",
    "version": 3
   },
   "file_extension": ".py",
   "mimetype": "text/x-python",
   "name": "python",
   "nbconvert_exporter": "python",
   "pygments_lexer": "ipython3",
   "version": "3.7.3"
  }
 },
 "nbformat": 4,
 "nbformat_minor": 2
}
