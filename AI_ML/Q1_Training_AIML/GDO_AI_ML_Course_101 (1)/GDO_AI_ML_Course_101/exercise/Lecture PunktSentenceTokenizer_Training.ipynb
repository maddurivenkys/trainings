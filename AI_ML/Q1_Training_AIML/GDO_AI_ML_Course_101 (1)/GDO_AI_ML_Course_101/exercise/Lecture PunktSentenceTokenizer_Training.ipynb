{
 "cells": [
  {
   "cell_type": "code",
   "execution_count": 1,
   "metadata": {},
   "outputs": [],
   "source": [
    "import nltk\n",
    "\n",
    "from nltk import *\n"
   ]
  },
  {
   "cell_type": "code",
   "execution_count": null,
   "metadata": {},
   "outputs": [],
   "source": [
    "#Scenario 1\n",
    "#Languages other than English:\n",
    "language_punkt_vars = nltk.tokenize.punkt.PunktLanguageVars\n",
    "language_punkt_vars.sent_end_chars=('։','՞','՜','.')\n",
    "\n",
    "#The first line is to create a PunktTrainer object\n",
    "#The variable traindata is the corpus that you want to train the trainer on.\n",
    "#language_punkt_vars is your PunktLanguageVars variable.\n",
    "#PunktSentenceTokenizer accepts your parameters (params), which we'll also use later.\n",
    "\n",
    "trainer = nltk.tokenize.punkt.PunktTrainer(traindata, language_punkt_vars)\n",
    "params = trainer.get_params()\n",
    "\n",
    "\n",
    "    "
   ]
  },
  {
   "cell_type": "code",
   "execution_count": null,
   "metadata": {},
   "outputs": [],
   "source": [
    "#define a sentence boundary detector:\n",
    "sbd = nltk.tokenize.punkt.PunktSentenceTokenizer(params)\n",
    "\n",
    "#tobetokenized is the string of text that you want to tokenize\n",
    "for sentence in sbd.sentences_from_text(tobetokenized, realign_boundaries=True):\n",
    "    print (sentence + \"\\n\")"
   ]
  },
  {
   "cell_type": "code",
   "execution_count": null,
   "metadata": {},
   "outputs": [],
   "source": [
    "#Scenario 2\n",
    "#If the language uses the same punctuation as English, you create the trainer slightly differently:\n",
    "\n",
    "trainer = nltk.tokenize.punkt.PunktTrainer(traindata) \n",
    "trainer.INCLUDE_ALL_COLLOCS = True \n",
    "trainer.INCLUDE_ABBREV_COLLOCS = True\n",
    "params = trainer.get_params()\n",
    "\n",
    "#The first line is to create a PunktTrainer object\n",
    "#traindata is the (string) corpus you want to train the trainer on.\n",
    "#INCLUDE_ALL_COLLOCS makes the trainer look for and remember abbreviations and initialisms.\n",
    "#INCLUDE_ABBREV_COLLOCS makes the trainer look for and remember word pairs where the first word is an abbreviation. It has to be placed after INCLUDE_ALL_COLLOCS.\n",
    "#The documentation for the two aforementioned booleans can be found here.\n",
    "#We'll use the params variable later.\n",
    "\n",
    "trainer.train(traindata)"
   ]
  },
  {
   "cell_type": "code",
   "execution_count": null,
   "metadata": {},
   "outputs": [],
   "source": [
    "sent_detector = nltk.data.load('english.pickle')\n",
    "sentences = sent_detector.tokenize(tobetokenized.strip())"
   ]
  }
 ],
 "metadata": {
  "kernelspec": {
   "display_name": "Python 3",
   "language": "python",
   "name": "python3"
  },
  "language_info": {
   "codemirror_mode": {
    "name": "ipython",
    "version": 3
   },
   "file_extension": ".py",
   "mimetype": "text/x-python",
   "name": "python",
   "nbconvert_exporter": "python",
   "pygments_lexer": "ipython3",
   "version": "3.7.3"
  }
 },
 "nbformat": 4,
 "nbformat_minor": 2
}
