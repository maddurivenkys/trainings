{
 "cells": [
  {
   "cell_type": "code",
   "execution_count": 21,
   "metadata": {},
   "outputs": [
    {
     "data": {
      "text/html": [
       "<div>\n",
       "<style scoped>\n",
       "    .dataframe tbody tr th:only-of-type {\n",
       "        vertical-align: middle;\n",
       "    }\n",
       "\n",
       "    .dataframe tbody tr th {\n",
       "        vertical-align: top;\n",
       "    }\n",
       "\n",
       "    .dataframe thead th {\n",
       "        text-align: right;\n",
       "    }\n",
       "</style>\n",
       "<table border=\"1\" class=\"dataframe\">\n",
       "  <thead>\n",
       "    <tr style=\"text-align: right;\">\n",
       "      <th></th>\n",
       "      <th>Close</th>\n",
       "    </tr>\n",
       "    <tr>\n",
       "      <th>Date</th>\n",
       "      <th></th>\n",
       "    </tr>\n",
       "  </thead>\n",
       "  <tbody>\n",
       "    <tr>\n",
       "      <th>2019-07-01</th>\n",
       "      <td>9.612</td>\n",
       "    </tr>\n",
       "    <tr>\n",
       "      <th>2019-07-02</th>\n",
       "      <td>9.761</td>\n",
       "    </tr>\n",
       "    <tr>\n",
       "      <th>2019-07-03</th>\n",
       "      <td>9.856</td>\n",
       "    </tr>\n",
       "    <tr>\n",
       "      <th>2019-07-04</th>\n",
       "      <td>9.800</td>\n",
       "    </tr>\n",
       "    <tr>\n",
       "      <th>2019-07-05</th>\n",
       "      <td>9.664</td>\n",
       "    </tr>\n",
       "  </tbody>\n",
       "</table>\n",
       "</div>"
      ],
      "text/plain": [
       "            Close\n",
       "Date             \n",
       "2019-07-01  9.612\n",
       "2019-07-02  9.761\n",
       "2019-07-03  9.856\n",
       "2019-07-04  9.800\n",
       "2019-07-05  9.664"
      ]
     },
     "execution_count": 21,
     "metadata": {},
     "output_type": "execute_result"
    }
   ],
   "source": [
    "\n",
    "from pandas import DataFrame\n",
    "import numpy as np\n",
    "import quandl\n",
    "import matplotlib.pyplot as plt\n",
    "from pandas.plotting import register_matplotlib_converters\n",
    "register_matplotlib_converters()\n",
    "\n",
    "# Plot of E.ON(a big scale energy company in Europe) \n",
    "# stock prices since beginning of 2019 (up to July)\n",
    "\n",
    "start = '2019-07-01'\n",
    "end = '2019-07-31'\n",
    "pred_end_date = '2019-08-31'\n",
    "API_KEY = '8WAEaoQHbgNVWyEPPMyA'\n",
    "\n",
    "s_data = quandl.get(\"FSE/EON_X\" , authtoken=API_KEY ,start_date=start, end_date=end)\n",
    "s_data = s_data.loc[:, \"Close\"]\n",
    "s_data.dropna()\n",
    "\n",
    "sp500 = DataFrame(s_data)\n",
    "\n",
    "sp500.head()"
   ]
  },
  {
   "cell_type": "code",
   "execution_count": 22,
   "metadata": {},
   "outputs": [
    {
     "data": {
      "image/png": "[encoded data removed]",
      "text/plain": [
       "<Figure size 432x288 with 1 Axes>"
      ]
     },
     "metadata": {
      "needs_background": "light"
     },
     "output_type": "display_data"
    }
   ],
   "source": [
    "sp500.plot()\n",
    "plt.show()"
   ]
  },
  {
   "cell_type": "code",
   "execution_count": 24,
   "metadata": {},
   "outputs": [
    {
     "name": "stdout",
     "output_type": "stream",
     "text": [
      "9.054\n"
     ]
    }
   ],
   "source": [
    "# Parameter Definitions\n",
    "\n",
    "# So    :   initial stock price\n",
    "# dt    :   time increment -> a day in our case\n",
    "# T     :   length of the prediction time horizon(how many time points to predict, same unit with dt(days))\n",
    "# N     :   number of time points in the prediction time horizon -> T/dt\n",
    "# t     :   array for time points in the prediction time horizon [1, 2, 3, .. , N]\n",
    "# mu    :   mean of historical daily returns\n",
    "# sigma :   standard deviation of historical daily returns\n",
    "# b     :   array for brownian increments\n",
    "# W     :   array for brownian path\n",
    "\n",
    "So = sp500.iloc[sp500.shape[0] - 1, 0]\n",
    "dt = 1\n",
    "\n",
    "print(So)"
   ]
  },
  {
   "cell_type": "code",
   "execution_count": 26,
   "metadata": {},
   "outputs": [
    {
     "name": "stdout",
     "output_type": "stream",
     "text": [
      "22\n"
     ]
    }
   ],
   "source": [
    "import pandas as pd\n",
    "\n",
    "n_of_wkdays = pd.date_range(start = pd.to_datetime(end, \n",
    "              format = \"%Y-%m-%d\") + pd.Timedelta('1 days'), \n",
    "              end = pd.to_datetime(pred_end_date, \n",
    "              format = \"%Y-%m-%d\")).to_series(\n",
    "              ).map(lambda x: \n",
    "              1 if x.isoweekday() in range(1,6) else 0).sum()\n",
    "T = n_of_wkdays\n",
    "print(T)"
   ]
  },
  {
   "cell_type": "code",
   "execution_count": 27,
   "metadata": {},
   "outputs": [
    {
     "name": "stdout",
     "output_type": "stream",
     "text": [
      "22.0\n"
     ]
    }
   ],
   "source": [
    "N = T / dt\n",
    "print(N)"
   ]
  },
  {
   "cell_type": "code",
   "execution_count": 28,
   "metadata": {},
   "outputs": [
    {
     "name": "stdout",
     "output_type": "stream",
     "text": [
      "[ 1  2  3  4  5  6  7  8  9 10 11 12 13 14 15 16 17 18 19 20 21 22]\n"
     ]
    }
   ],
   "source": [
    "t = np.arange(1, int(N) + 1)\n",
    "print(t)"
   ]
  },
  {
   "cell_type": "code",
   "execution_count": 32,
   "metadata": {},
   "outputs": [
    {
     "name": "stdout",
     "output_type": "stream",
     "text": [
      "               Close\n",
      "Date                \n",
      "2019-07-01       NaN\n",
      "2019-07-02  0.015501\n",
      "2019-07-03  0.009733\n",
      "2019-07-04 -0.005682\n",
      "2019-07-05 -0.013878\n",
      "2019-07-08 -0.003208\n",
      "2019-07-09  0.003841\n",
      "2019-07-10 -0.013340\n",
      "2019-07-11 -0.005555\n",
      "2019-07-12 -0.008326\n",
      "2019-07-15 -0.000425\n",
      "2019-07-16 -0.000532\n",
      "2019-07-17 -0.001383\n",
      "2019-07-18  0.003089\n",
      "2019-07-19  0.003611\n",
      "2019-07-22  0.001058\n",
      "2019-07-23  0.005285\n",
      "2019-07-24  0.002944\n",
      "2019-07-25 -0.002202\n",
      "2019-07-26 -0.005989\n",
      "2019-07-29  0.002960\n",
      "2019-07-30 -0.027614\n",
      "2019-07-31 -0.018643\n"
     ]
    }
   ],
   "source": [
    "daily_return = sp500.pct_change(1)\n",
    "\n",
    "print(daily_return)"
   ]
  },
  {
   "cell_type": "code",
   "execution_count": 34,
   "metadata": {},
   "outputs": [
    {
     "name": "stdout",
     "output_type": "stream",
     "text": [
      "Close   -0.002671\n",
      "dtype: float64\n"
     ]
    }
   ],
   "source": [
    "mu = np.mean(daily_return)\n",
    "print(mu)"
   ]
  },
  {
   "cell_type": "code",
   "execution_count": 35,
   "metadata": {},
   "outputs": [
    {
     "name": "stdout",
     "output_type": "stream",
     "text": [
      "Close    0.009362\n",
      "dtype: float64\n"
     ]
    }
   ],
   "source": [
    "sigma = np.std(daily_return)\n",
    "print(sigma)"
   ]
  },
  {
   "cell_type": "code",
   "execution_count": 36,
   "metadata": {},
   "outputs": [
    {
     "name": "stdout",
     "output_type": "stream",
     "text": [
      "{'1': array([-2.28357968, -1.10617982,  0.9690354 ,  0.00903692,  0.98025093,\n",
      "       -1.54345183, -0.50080528, -1.21179764,  1.83783082,  0.30687283,\n",
      "       -0.84343261, -2.10436411,  0.03672164, -0.40221621,  0.22387439,\n",
      "       -0.26075536,  1.7999295 , -1.09178056,  1.12377702,  0.05702544,\n",
      "        0.51339607,  1.23998233]), '2': array([ 1.10804934,  0.53636926,  0.58221132, -0.40576707, -1.4183261 ,\n",
      "        0.25762604,  1.70223604,  0.38739113,  0.4162431 ,  0.02526131,\n",
      "        1.44463134,  0.6434971 ,  0.03978659,  1.78160663, -1.3905025 ,\n",
      "       -0.08754095, -0.54670792, -0.68895248, -0.24192351, -1.13894735,\n",
      "        0.56755823,  0.46373458])}\n"
     ]
    }
   ],
   "source": [
    "scen_size = 2\n",
    "b = {str(scen): np.random.normal(0, 1, int(N)) for scen in range(1, scen_size + 1)}\n",
    "print(b)"
   ]
  },
  {
   "cell_type": "markdown",
   "metadata": {},
   "source": [
    "![alt text](brownian_path.png \"Title\")"
   ]
  },
  {
   "cell_type": "code",
   "execution_count": 37,
   "metadata": {},
   "outputs": [
    {
     "name": "stdout",
     "output_type": "stream",
     "text": [
      "{'1': array([-2.28357968, -3.3897595 , -2.4207241 , -2.41168717, -1.43143625,\n",
      "       -2.97488808, -3.47569336, -4.687491  , -2.84966018, -2.54278735,\n",
      "       -3.38621996, -5.49058407, -5.45386243, -5.85607865, -5.63220425,\n",
      "       -5.89295961, -4.09303011, -5.18481067, -4.06103365, -4.00400821,\n",
      "       -3.49061215, -2.25062982]), '2': array([1.10804934, 1.6444186 , 2.22662992, 1.82086285, 0.40253675,\n",
      "       0.66016278, 2.36239882, 2.74978996, 3.16603306, 3.19129436,\n",
      "       4.6359257 , 5.2794228 , 5.31920939, 7.10081602, 5.71031352,\n",
      "       5.62277257, 5.07606464, 4.38711217, 4.14518866, 3.00624131,\n",
      "       3.57379954, 4.03753411])}\n"
     ]
    }
   ],
   "source": [
    "W = {str(scen): b[str(scen)].cumsum() for scen in range(1, scen_size + 1)}\n",
    "print(W)"
   ]
  },
  {
   "attachments": {},
   "cell_type": "markdown",
   "metadata": {},
   "source": [
    "![alt text](drift.png \"Title\")\n",
    "![alt text](diffusion.png \"Title\")\n",
    "![alt text](drift_diffusion.png \"Title\")\n",
    "![alt text](discete_GBM_multistep.png \"Title\")\n",
    "![alt text](gbm_general.png \"Title\")\n",
    "![alt text](gbm_final.png \"Title\")"
   ]
  },
  {
   "cell_type": "code",
   "execution_count": null,
   "metadata": {},
   "outputs": [],
   "source": []
  }
 ],
 "metadata": {
  "kernelspec": {
   "display_name": "Python 3",
   "language": "python",
   "name": "python3"
  },
  "language_info": {
   "codemirror_mode": {
    "name": "ipython",
    "version": 3
   },
   "file_extension": ".py",
   "mimetype": "text/x-python",
   "name": "python",
   "nbconvert_exporter": "python",
   "pygments_lexer": "ipython3",
   "version": "3.7.3"
  }
 },
 "nbformat": 4,
 "nbformat_minor": 2
}
