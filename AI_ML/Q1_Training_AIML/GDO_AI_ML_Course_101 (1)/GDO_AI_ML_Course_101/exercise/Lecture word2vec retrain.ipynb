{
 "cells": [
  {
   "cell_type": "code",
   "execution_count": 6,
   "metadata": {},
   "outputs": [],
   "source": [
    "import numpy as np\n",
    "import matplotlib.pyplot as plt\n",
    " \n",
    "from sklearn.manifold import TSNE\n",
    "\n",
    "def display_closestwords_tsnescatterplot(model, word):\n",
    "    \n",
    "    arr = np.empty((0,300), dtype='f')\n",
    "    word_labels = [word]\n",
    "\n",
    "    # get close words\n",
    "    close_words = model.similar_by_word(word)\n",
    "    \n",
    "    # add the vector for each of the closest words to the array\n",
    "    arr = np.append(arr, np.array([model[word]]), axis=0)\n",
    "    for wrd_score in close_words:\n",
    "        wrd_vector = model[wrd_score[0]]\n",
    "        word_labels.append(wrd_score[0])\n",
    "        arr = np.append(arr, np.array([wrd_vector]), axis=0)\n",
    "        \n",
    "    # find tsne coords for 2 dimensions\n",
    "    tsne = TSNE(n_components=2, random_state=0)\n",
    "    np.set_printoptions(suppress=True)\n",
    "    Y = tsne.fit_transform(arr)\n",
    "\n",
    "    x_coords = Y[:, 0]\n",
    "    y_coords = Y[:, 1]\n",
    "    # display scatter plot\n",
    "    plt.scatter(x_coords, y_coords)\n",
    "\n",
    "    for label, x, y in zip(word_labels, x_coords, y_coords):\n",
    "        plt.annotate(label, xy=(x, y), xytext=(0, 0), textcoords='offset points')\n",
    "    plt.xlim(x_coords.min()+0.00005, x_coords.max()+0.00005)\n",
    "    plt.ylim(y_coords.min()+0.00005, y_coords.max()+0.00005)\n",
    "    plt.show()"
   ]
  },
  {
   "cell_type": "code",
   "execution_count": 7,
   "metadata": {},
   "outputs": [
    {
     "name": "stderr",
     "output_type": "stream",
     "text": [
      "C:\\Users\\e1077926\\AppData\\Local\\Continuum\\anaconda3\\lib\\site-packages\\ipykernel_launcher.py:12: DeprecationWarning: Call to deprecated `similar_by_word` (Method will be removed in 4.0.0, use self.wv.similar_by_word() instead).\n",
      "  if sys.path[0] == '':\n",
      "C:\\Users\\e1077926\\AppData\\Local\\Continuum\\anaconda3\\lib\\site-packages\\ipykernel_launcher.py:15: DeprecationWarning: Call to deprecated `__getitem__` (Method will be removed in 4.0.0, use self.wv.__getitem__() instead).\n",
      "  from ipykernel import kernelapp as app\n",
      "C:\\Users\\e1077926\\AppData\\Local\\Continuum\\anaconda3\\lib\\site-packages\\ipykernel_launcher.py:17: DeprecationWarning: Call to deprecated `__getitem__` (Method will be removed in 4.0.0, use self.wv.__getitem__() instead).\n"
     ]
    },
    {
     "data": {
      "image/png": "[encoded data removed]",
      "text/plain": [
       "<Figure size 432x288 with 1 Axes>"
      ]
     },
     "metadata": {
      "needs_background": "light"
     },
     "output_type": "display_data"
    }
   ],
   "source": [
    "from gensim.models import Word2Vec\n",
    "\n",
    "from matplotlib import pyplot\n",
    "# define training data\n",
    "sentences = [['this', 'is', 'the', 'first', 'sentence', 'for', 'word2vec'],\n",
    "            ['this', 'is', 'the', 'second', 'sentence'],\n",
    "            ['yet', 'another', 'sentence'],\n",
    "            ['one', 'more', 'sentence'],\n",
    "            ['and', 'the', 'final', 'sentence']]\n",
    "# train model\n",
    "model_1 = Word2Vec(sentences, size=300, min_count=1)\n",
    "\n",
    "display_closestwords_tsnescatterplot(model_1, 'this')\n"
   ]
  },
  {
   "cell_type": "code",
   "execution_count": 8,
   "metadata": {},
   "outputs": [
    {
     "name": "stderr",
     "output_type": "stream",
     "text": [
      "C:\\Users\\e1077926\\AppData\\Local\\Continuum\\anaconda3\\lib\\site-packages\\ipykernel_launcher.py:8: DeprecationWarning: Call to deprecated `wv` (Attribute will be removed in 4.0.0, use self instead).\n",
      "  \n"
     ]
    },
    {
     "name": "stdout",
     "output_type": "stream",
     "text": [
      "[('vacations', 0.8502235412597656), ('holiday', 0.7612416744232178), ('holidays', 0.7156026363372803), ('Vacation', 0.6945600509643555), ('vacationing', 0.6840166449546814), ('vacay', 0.6662922501564026), ('honeymoon', 0.6617687940597534), ('sabbatical', 0.659511148929596), ('vaction', 0.6581279039382935), ('busman', 0.6352845430374146)]\n"
     ]
    }
   ],
   "source": [
    "import gensim\n",
    "from gensim.models import Word2Vec\n",
    "from gensim.models.keyedvectors import KeyedVectors\n",
    "\n",
    "model = r\"C:\\Users\\e1077926\\Documents\\Sungard-India\\Training\\ML\\Short courses\\NLP\\data\\wiki-news-300d-1M.vec\"\n",
    "\n",
    "word_vectors = KeyedVectors.load_word2vec_format(model, binary=False)\n",
    "print(word_vectors.wv.most_similar(\"vacation\"))"
   ]
  },
  {
   "cell_type": "code",
   "execution_count": null,
   "metadata": {},
   "outputs": [],
   "source": [
    "from gensim.models import Word2Vec\n",
    "\n",
    "sentences = [['this', 'is', 'the', 'first', 'sentence', 'for', 'word2vec'],\n",
    "            ['this', 'is', 'the', 'second', 'sentence'],\n",
    "            ['yet', 'another', 'sentence'],\n",
    "            ['one', 'more', 'sentence'],\n",
    "            ['and', 'the', 'final', 'sentence']]\n",
    "min_count = 5\n",
    "\n",
    "model_path = r\"C:\\Users\\e1077926\\Documents\\Sungard-India\\Training\\ML\\Short courses\\NLP\\data\\wiki-news-300d-1M.vec\"\n",
    "\n",
    "pre_trained_model = KeyedVectors.load_word2vec_format(model_path, binary=False)\n",
    "\n",
    "model = Word2Vec(size=300, min_count=min_count, iter=10)\n",
    "model.build_vocab(sentences)\n",
    "training_examples_count = model.corpus_count\n",
    "\n",
    "\n",
    "model.build_vocab([list(pre_trained_model.vocab.keys())], update=True)\n",
    "model.intersect_word2vec_format(model_path,binary=False, lockf=1.0)\n",
    "model.train(sentences,total_examples=training_examples_count, epochs=model.iter)\n",
    "\n",
    "new_model_path = r\"C:\\e1077926\\ranadhir.ghosh\\Documents\\Sungard-India\\Training\\ML\\Short courses\\NLP\\data\\new_trained_model.bin\"\n",
    "model.wv.save_word2vec_format(new_model_path, binary=True)\n"
   ]
  },
  {
   "cell_type": "code",
   "execution_count": null,
   "metadata": {},
   "outputs": [],
   "source": [
    "new_model_path = r\"C:\\Users\\e1077926\\Documents\\Sungard-India\\Training\\ML\\Short courses\\NLP\\data\\new_trained_model.bin\"\n",
    "word_vectors = KeyedVectors.load_word2vec_format(new_model_path, binary=True)\n",
    "print(word_vectors.wv.most_similar(\"sentence\"))"
   ]
  },
  {
   "cell_type": "code",
   "execution_count": null,
   "metadata": {},
   "outputs": [],
   "source": []
  }
 ],
 "metadata": {
  "kernelspec": {
   "display_name": "Python 3",
   "language": "python",
   "name": "python3"
  },
  "language_info": {
   "codemirror_mode": {
    "name": "ipython",
    "version": 3
   },
   "file_extension": ".py",
   "mimetype": "text/x-python",
   "name": "python",
   "nbconvert_exporter": "python",
   "pygments_lexer": "ipython3",
   "version": "3.7.3"
  }
 },
 "nbformat": 4,
 "nbformat_minor": 2
}
