{
 "cells": [
  {
   "cell_type": "code",
   "execution_count": 1,
   "metadata": {},
   "outputs": [
    {
     "name": "stdout",
     "output_type": "stream",
     "text": [
      "8\n"
     ]
    }
   ],
   "source": [
    "import multiprocessing\n",
    "\n",
    "cores = multiprocessing.cpu_count()\n",
    "print (cores)"
   ]
  },
  {
   "cell_type": "markdown",
   "metadata": {},
   "source": [
    "setting up parameters for Word2Vec\n",
    "\n",
    "min_count = int - Ignores all words with total absolute frequency lower than this - (2, 100)\n",
    "\n",
    "window = int - The maximum distance between the current and predicted word within a sentence. E.g. window words on the left and window words on the left of our target - (2, 10)\n",
    "\n",
    "size = int - Dimensionality of the feature vectors. - (50, 300)\n",
    "\n",
    "sample = float - The threshold for configuring which higher-frequency words are randomly downsampled. Highly influencial. - (0, 1e-5)\n",
    "\n",
    "alpha = float - The initial learning rate - (0.01, 0.05)\n",
    "\n",
    "min_alpha = float - Learning rate will linearly drop to min_alpha as training progresses. To set it: alpha - (min_alpha * epochs) ~ 0.00\n",
    "\n",
    "negative = int - If > 0, negative sampling will be used, the int for negative specifies how many \"noise words\" should be drown. If set to 0, no negative sampling is used. - (5, 20)\n",
    "\n",
    "workers = int - Use these many worker threads to train the model (=faster training with multicore machines)\n"
   ]
  },
  {
   "cell_type": "code",
   "execution_count": 2,
   "metadata": {},
   "outputs": [],
   "source": [
    "from gensim.models import Word2Vec\n",
    "w2v_model = Word2Vec(min_count=20,\n",
    "                     window=2,\n",
    "                     size=300,\n",
    "                     sample=6e-5, \n",
    "                     alpha=0.03, \n",
    "                     min_alpha=0.0007, \n",
    "                     negative=20,\n",
    "                     workers=cores-1)"
   ]
  },
  {
   "cell_type": "code",
   "execution_count": 6,
   "metadata": {},
   "outputs": [
    {
     "name": "stderr",
     "output_type": "stream",
     "text": [
      "[nltk_data] Downloading package abc to\n",
      "[nltk_data]     C:\\Users\\e1077926\\AppData\\Roaming\\nltk_data...\n",
      "[nltk_data]   Package abc is already up-to-date!\n",
      "[nltk_data] Downloading package punkt to\n",
      "[nltk_data]     C:\\Users\\e1077926\\AppData\\Roaming\\nltk_data...\n",
      "[nltk_data]   Unzipping tokenizers\\punkt.zip.\n"
     ]
    },
    {
     "data": {
      "text/plain": [
       "True"
      ]
     },
     "execution_count": 6,
     "metadata": {},
     "output_type": "execute_result"
    }
   ],
   "source": [
    "import nltk\n",
    "nltk.download('abc')\n",
    "nltk.download('punkt')"
   ]
  },
  {
   "cell_type": "code",
   "execution_count": 7,
   "metadata": {},
   "outputs": [
    {
     "name": "stdout",
     "output_type": "stream",
     "text": [
      "29059\n",
      "Time to build vocab: 0.06 mins\n"
     ]
    }
   ],
   "source": [
    "from time import time\n",
    "import nltk\n",
    "from nltk.corpus import abc\n",
    "import multiprocessing\n",
    "\n",
    "cores = multiprocessing.cpu_count()\n",
    "t = time()\n",
    "sentences = abc.sents()\n",
    "\n",
    "print(len(sentences))\n",
    "\n",
    "w2v_model = Word2Vec(min_count=20,\n",
    "                     window=2,\n",
    "                     size=300,\n",
    "                     sample=6e-5, \n",
    "                     alpha=0.03, \n",
    "                     min_alpha=0.0007, \n",
    "                     negative=20,\n",
    "                     workers=cores-1)\n",
    "\n",
    "w2v_model.build_vocab(sentences, progress_per=10000)\n",
    "print('Time to build vocab: {} mins'.format(round((time() - t) / 60, 2)))"
   ]
  },
  {
   "cell_type": "code",
   "execution_count": 8,
   "metadata": {},
   "outputs": [
    {
     "name": "stdout",
     "output_type": "stream",
     "text": [
      "29059\n"
     ]
    }
   ],
   "source": [
    "print(w2v_model.corpus_count)"
   ]
  },
  {
   "cell_type": "code",
   "execution_count": 9,
   "metadata": {},
   "outputs": [
    {
     "name": "stdout",
     "output_type": "stream",
     "text": [
      "1000\n",
      "1000\n"
     ]
    }
   ],
   "source": [
    "sentences = abc.sents()\n",
    "sentences = sentences[0:1000]\n",
    "print(len(sentences))\n",
    "w2v_model = Word2Vec(min_count=20,\n",
    "                     window=2,\n",
    "                     size=300,\n",
    "                     sample=6e-5, \n",
    "                     alpha=0.03, \n",
    "                     min_alpha=0.0007, \n",
    "                     negative=20,\n",
    "                     workers=cores-1)\n",
    "\n",
    "\n",
    "w2v_model.build_vocab(sentences, progress_per=10000)\n",
    "print(w2v_model.corpus_count)"
   ]
  },
  {
   "cell_type": "markdown",
   "metadata": {},
   "source": [
    "Training of the model:\n",
    "Parameters of the training:\n",
    "\n",
    "total_examples = int - Count of sentences;\n",
    "epochs = int - Number of iterations (epochs) over the corpus - [10,20,30]"
   ]
  },
  {
   "cell_type": "code",
   "execution_count": 10,
   "metadata": {},
   "outputs": [
    {
     "name": "stdout",
     "output_type": "stream",
     "text": [
      "Time to train the model: 0.01 mins\n"
     ]
    }
   ],
   "source": [
    "t = time()\n",
    "\n",
    "w2v_model.train(sentences, total_examples=w2v_model.corpus_count, epochs=10, report_delay=1)\n",
    "\n",
    "print('Time to train the model: {} mins'.format(round((time() - t) / 60, 2)))"
   ]
  },
  {
   "cell_type": "code",
   "execution_count": 11,
   "metadata": {},
   "outputs": [
    {
     "name": "stdout",
     "output_type": "stream",
     "text": [
      "['of', 'AWB', 'The', 'Minister', 'has', 'he', 'was', 'to', 'Iraq', 'the', 'wheat', 'be', 'on', '.', 'from', 'and', 'have', 'been', 'by', 'into', 'oil', 'for', 'food', 'one', 'Mr', 'in', 'with', 'Government', \"'\", 's', 'says', ',', 'time', 'a', 'company', 'can', 'its', 'which', '$', 'million', '\"', 'this', 'at', 'trade', ',\"', 'said', 'But', 'about', 'do', 'not', 'It', 'would', 'if', 'as', 'I', 't', 'could', 'Australia', 'very', 'market', 'Peter', 'an', 'that', 'had', 'after', '-', 'it', 'still', 'grain', 'growers', 'New', 'South', 'say', 'they', 'get', 'prices', 'their', 'think', 'all', 'single', 'desk', 'are', 'going', 'people', 'got', 'them', 've', 'over', 'is', 'will', 'too', 'there', '.\"', 'back', 'year', 'price', 'years', 'export', 'farmers', 'help', 'Farmers', 'just', 'cattle', 'week', 'or', 'up', 'We', 'we', 're', 'A', 'Western', 'Victoria', 'also', 'out', 'were', 'more', 'only', 'but', 'down', 'state', 'deal', 'first', 'workers', 'off', 'new', 'industry', 'wool', 'Australian', 'being', 'big', 'really', 'used', 'now', 'so', 'far', 'areas', 'who', 'country', 'Queensland', 'than', 'you', 'because', 'Zealand', 'last', 'other', ':', 'fruit', 'don', 'water', 'next', 'like', 'rural', 'some', '000', 'need', 'around', 'per', 'cent', 'cost', 'see', 'There', 'US', 'good', 'come', 'what', 'our', 'Federal', 'many', 'found', 'those', 'beef', 'north', 'cyclone', 'farm', 'production']\n"
     ]
    }
   ],
   "source": [
    "X= list(w2v_model.wv.vocab)\n",
    "print(X)"
   ]
  },
  {
   "cell_type": "code",
   "execution_count": 12,
   "metadata": {},
   "outputs": [
    {
     "data": {
      "text/plain": [
       "[('that', 0.9999266862869263),\n",
       " ('.', 0.9999246597290039),\n",
       " (',\"', 0.9999233484268188),\n",
       " ('\"', 0.9999231100082397),\n",
       " ('it', 0.9999216794967651),\n",
       " ('industry', 0.9999204874038696),\n",
       " ('the', 0.9999204277992249),\n",
       " ('they', 0.9999202489852905),\n",
       " ('with', 0.9999198913574219),\n",
       " ('from', 0.9999197721481323)]"
      ]
     },
     "execution_count": 12,
     "metadata": {},
     "output_type": "execute_result"
    }
   ],
   "source": [
    "w2v_model.wv.most_similar('help')\n"
   ]
  },
  {
   "cell_type": "code",
   "execution_count": 13,
   "metadata": {},
   "outputs": [
    {
     "name": "stdout",
     "output_type": "stream",
     "text": [
      "[ 7.94268623e-02 -1.19976118e-01 -6.11898899e-02  9.95980725e-02\n",
      " -3.90754314e-03  1.76396057e-01 -1.74683020e-01  6.23603612e-02\n",
      " -4.09190804e-02  5.04278624e-03  2.20543385e-01 -5.37517481e-02\n",
      " -6.86010495e-02  7.47306319e-03  6.94648251e-02 -9.50588882e-02\n",
      " -7.50252753e-02  2.06879107e-03  9.22547095e-03  8.32012817e-02\n",
      " -6.87487423e-02  1.21612407e-01 -5.81166707e-04  8.37032199e-02\n",
      "  1.13722682e-01 -7.67787397e-02 -7.97585249e-02 -4.11391333e-02\n",
      "  2.98263319e-02  5.29444963e-02  1.23041019e-01 -1.42194688e-01\n",
      " -3.68320309e-02 -4.67644669e-02 -9.28761959e-02  5.38847744e-02\n",
      " -1.47908375e-01  1.66825294e-01  1.13077141e-01  5.24140224e-02\n",
      "  1.02584787e-01 -1.54396281e-01  1.88466594e-01 -3.19396518e-02\n",
      "  1.25138666e-02 -8.10939670e-02 -2.13872701e-01  2.00767666e-01\n",
      "  2.91220807e-02 -2.65727229e-02  4.35938388e-02 -7.57235736e-02\n",
      "  7.85314664e-02 -9.43076611e-02  6.40312508e-02  1.31409213e-01\n",
      "  1.64409161e-01 -5.76844551e-02 -1.85921360e-02 -5.55644892e-02\n",
      "  1.06221013e-01 -8.62357393e-02 -7.40762204e-02 -2.73220781e-02\n",
      "  6.00927360e-02  1.23129986e-01 -4.72604446e-02  1.38930276e-01\n",
      "  2.18245517e-02  6.14602529e-02 -1.63733188e-04  2.00028688e-01\n",
      "  1.07548870e-01 -1.62724599e-01 -5.99595439e-03 -2.59649381e-02\n",
      " -9.12690312e-02  7.51486368e-05  5.09910770e-02 -4.30012718e-02\n",
      "  8.79936516e-02 -2.30204854e-02  1.71401903e-01 -1.76752448e-01\n",
      " -2.86942702e-02  8.50821882e-02  6.63711801e-02 -2.92029083e-02\n",
      "  6.02172967e-03 -2.82892615e-01 -1.18148699e-01  1.72192276e-01\n",
      "  1.64909080e-01  5.86780943e-02 -8.50881625e-04  5.59794195e-02\n",
      "  1.79786444e-01  7.20425099e-02  3.77209708e-02  6.13786727e-02\n",
      "  2.00100169e-02 -2.07164526e-01 -1.74912557e-01  2.52085999e-02\n",
      "  1.67114958e-01 -5.75947352e-02 -5.43698035e-02 -2.36882716e-02\n",
      " -1.85428873e-01 -1.83712840e-02  1.45139486e-01 -5.79661690e-03\n",
      " -3.43509577e-02  4.06036526e-02  1.04527352e-02  2.16017991e-01\n",
      " -1.15141943e-01 -1.17104195e-01 -2.05122624e-02  6.25945479e-02\n",
      " -1.28206909e-01  7.89158940e-02  9.59091634e-03  1.41946282e-02\n",
      " -7.94548094e-02  1.05403606e-02 -2.89114978e-04 -3.90508175e-02\n",
      "  9.83675346e-02 -1.05945244e-01 -4.93064895e-03 -1.48987144e-01\n",
      " -2.15662252e-02  7.98900500e-02 -7.72747621e-02 -2.02052921e-01\n",
      " -1.13075659e-01  1.38343930e-01  6.30039573e-02 -1.29353283e-02\n",
      "  6.91310912e-02 -8.89966190e-02  1.34122044e-01 -3.59576829e-02\n",
      "  2.34718993e-01 -4.59424257e-02 -7.91895315e-02 -3.38442586e-02\n",
      "  1.20213985e-01  8.50569680e-02 -6.93126619e-02  8.40162393e-03\n",
      "  4.42120060e-02 -1.55255362e-01 -6.64316490e-02 -5.66234998e-02\n",
      " -1.08266696e-01  1.09421499e-01  8.56374502e-02  2.25795209e-02\n",
      " -1.35820955e-01  2.06471737e-02 -5.09961275e-03 -4.94921692e-02\n",
      "  2.75144372e-02 -9.39072925e-04 -5.77549897e-02  1.22249387e-01\n",
      " -2.64186598e-02  3.90985385e-02  2.56167036e-02  8.38071257e-02\n",
      "  1.67423531e-01 -1.06353555e-02 -5.68838753e-02  9.54230875e-02\n",
      "  8.75300467e-02  3.03567257e-02  2.19025053e-02  1.00171112e-01\n",
      " -9.74264070e-02  3.36709209e-02 -6.74869865e-02 -6.11997880e-02\n",
      " -2.34614775e-01  4.55435216e-02 -1.28450245e-01  5.32101579e-02\n",
      " -8.11080039e-02 -4.00565937e-02 -3.71923880e-03  5.86041771e-02\n",
      "  8.15134719e-02 -4.05852720e-02 -3.75041813e-02 -8.31359178e-02\n",
      " -1.48720592e-01  3.79010886e-02 -2.55571485e-01  6.28314763e-02\n",
      "  1.48464441e-01  1.23456093e-02 -1.13634810e-01 -5.10822982e-02\n",
      " -1.64232135e-01  1.97398663e-02  9.32337046e-02  1.67259332e-02\n",
      " -1.25507966e-01  1.39782608e-01  9.71742049e-02  4.36494723e-02\n",
      "  8.63721501e-03  3.19776721e-02 -6.44831359e-02  7.19492808e-02\n",
      " -6.48904741e-02 -1.22624435e-01 -2.08992511e-01  8.18414390e-02\n",
      "  7.45022520e-02  5.77315912e-02  4.12032008e-02  1.56788811e-01\n",
      " -2.95452513e-02 -4.47464101e-02 -6.11806959e-02  1.25726104e-01\n",
      "  1.78311821e-02  2.84792129e-02 -8.49158391e-02  4.76828143e-02\n",
      "  1.70880314e-02  6.09915853e-02  7.36968443e-02 -4.04066071e-02\n",
      " -8.61766413e-02 -1.68841928e-02  5.81943877e-02 -1.37921676e-01\n",
      " -7.94722419e-03  3.56833749e-02  1.03988364e-01 -1.01757728e-01\n",
      "  7.81807899e-02 -6.46325946e-03 -1.07189931e-01 -1.60201803e-01\n",
      " -5.69646806e-02 -1.04094982e-01  1.01563647e-01  1.79334506e-02\n",
      "  1.73171669e-01 -6.35384023e-02 -1.31753221e-01 -1.32532499e-03\n",
      " -5.30540682e-02 -1.06355473e-01  1.31245479e-01 -4.23972458e-02\n",
      " -2.62411237e-02 -6.17252737e-02 -2.19573826e-01  1.09007865e-01\n",
      "  1.39401942e-01  6.74705878e-02 -2.22292021e-01 -1.10637313e-02\n",
      " -1.35991722e-01 -4.21231017e-02 -1.33545082e-02  4.31503654e-02\n",
      " -1.45480230e-01  7.42467046e-02 -1.27428412e-01 -6.84074834e-02\n",
      " -7.32367113e-03  8.29981145e-05  1.86478466e-01  1.35952249e-01\n",
      "  3.93759497e-02 -6.40598014e-02  4.23871120e-03 -1.90528892e-02\n",
      " -2.72449642e-01 -1.23642780e-01 -9.61614922e-02 -1.15563415e-01\n",
      " -6.67414516e-02  1.20994948e-01 -1.35105923e-01  1.09814152e-01\n",
      " -1.23112528e-02 -1.63628027e-01  2.41734087e-02  3.96239683e-02\n",
      " -1.41492575e-01 -4.65362445e-02 -4.58559692e-02  1.41379610e-01]\n"
     ]
    }
   ],
   "source": [
    "# Vector of help\n",
    "help_vec = w2v_model.wv[\"help\"]\n",
    "print(help_vec)"
   ]
  },
  {
   "cell_type": "code",
   "execution_count": 14,
   "metadata": {},
   "outputs": [
    {
     "name": "stdout",
     "output_type": "stream",
     "text": [
      "Time to train the model: 0.32 mins\n"
     ]
    }
   ],
   "source": [
    "sentences = abc.sents()\n",
    "t = time()\n",
    "w2v_model = Word2Vec(min_count=20,\n",
    "                     window=2,\n",
    "                     size=300,\n",
    "                     sample=6e-5, \n",
    "                     alpha=0.03, \n",
    "                     min_alpha=0.0007, \n",
    "                     negative=20,\n",
    "                     workers=cores-1)\n",
    "\n",
    "\n",
    "w2v_model.build_vocab(sentences, progress_per=10000)\n",
    "w2v_model.train(sentences, total_examples=w2v_model.corpus_count, epochs=10, report_delay=1)\n",
    "print('Time to train the model: {} mins'.format(round((time() - t) / 60, 2)))"
   ]
  },
  {
   "cell_type": "code",
   "execution_count": 15,
   "metadata": {},
   "outputs": [
    {
     "data": {
      "text/plain": [
       "[('should', 0.9736603498458862),\n",
       " ('stop', 0.9635000228881836),\n",
       " ('support', 0.9606922268867493),\n",
       " ('allow', 0.9597729444503784),\n",
       " ('future', 0.955683171749115),\n",
       " ('changes', 0.9526770710945129),\n",
       " ('try', 0.9504908919334412),\n",
       " ('improve', 0.9498195052146912),\n",
       " ('issues', 0.9486807584762573),\n",
       " ('technology', 0.9448997378349304)]"
      ]
     },
     "execution_count": 15,
     "metadata": {},
     "output_type": "execute_result"
    }
   ],
   "source": [
    "w2v_model.wv.most_similar('help')\n",
    "\n"
   ]
  },
  {
   "cell_type": "code",
   "execution_count": 16,
   "metadata": {},
   "outputs": [
    {
     "name": "stdout",
     "output_type": "stream",
     "text": [
      "[ 1.17258847e-01  1.70875471e-02 -2.55051464e-01 -7.32806399e-02\n",
      "  2.00378537e-01  1.94304585e-01 -2.11663857e-01  8.18838552e-02\n",
      " -4.85505946e-02 -1.11817777e-01  8.39879587e-02  3.08474638e-02\n",
      " -2.54369706e-01  4.02581990e-01  1.90839678e-01  1.47355884e-01\n",
      " -5.66411950e-02  2.82041252e-01 -6.36820262e-03  2.24710524e-01\n",
      " -1.61748350e-01  6.27292022e-02  5.27099594e-02 -6.07175846e-03\n",
      "  8.88421908e-02  4.13789488e-02 -1.13801435e-01  1.85776398e-01\n",
      " -5.32850921e-02  1.12422854e-01  1.79588944e-01 -2.46721134e-02\n",
      "  7.36064166e-02  2.52672970e-01 -1.64392039e-01 -4.24139649e-02\n",
      "  4.23218161e-02  8.75027385e-03 -1.95844188e-01  1.29556999e-01\n",
      "  5.51281273e-02 -1.00280464e-01  9.34888572e-02 -1.54290363e-01\n",
      " -2.16722973e-02  2.46986628e-01 -2.10695341e-01  1.01072073e-01\n",
      " -1.07278667e-01 -5.53680182e-01  7.17052221e-02 -1.67960837e-01\n",
      "  1.14310645e-01 -5.32685071e-02  1.04157776e-02  1.29798993e-01\n",
      "  1.11832812e-01 -1.63429976e-01 -2.40791142e-01 -1.95419684e-01\n",
      "  2.23389566e-01 -1.25607222e-01  7.84725174e-02  6.05744347e-02\n",
      " -1.68988794e-01 -1.74844652e-01 -7.82843009e-02  3.66483517e-02\n",
      " -1.24449069e-02 -1.29877567e-01  1.17973678e-01  2.89842784e-02\n",
      " -1.67508069e-02 -2.86031395e-01 -2.30293483e-01 -3.58979218e-02\n",
      " -1.80831939e-01  1.24057144e-01  4.48222682e-02 -1.55185591e-02\n",
      " -8.69402215e-02 -2.65697706e-02  2.06345960e-01 -1.33181691e-01\n",
      " -2.56933570e-02  2.47833021e-02  1.38984069e-01  4.05784100e-02\n",
      "  3.44100110e-02  8.35232958e-02 -1.06825896e-01 -1.86486855e-01\n",
      " -6.59757927e-02  2.27896452e-01 -1.26749709e-01  6.40030205e-02\n",
      "  2.38721967e-01  1.71720609e-02  2.92069521e-02  4.00992334e-02\n",
      " -1.67341158e-01  7.68733351e-03  8.16260371e-03  3.15958858e-01\n",
      "  1.64764464e-01  1.09236498e-04  7.30749071e-02 -8.13828483e-02\n",
      " -1.32473290e-01 -1.32060833e-02 -1.42896235e-01 -4.99412753e-02\n",
      "  6.56276941e-02  2.26836279e-01 -1.19165115e-01 -8.37716237e-02\n",
      " -3.10298316e-02 -2.73595721e-01 -1.44965917e-01 -1.23193614e-01\n",
      " -9.31371674e-02  5.44801317e-02  5.54951429e-02 -1.07839979e-01\n",
      "  1.45719126e-01 -2.32565515e-02 -2.17092693e-01 -1.20159559e-01\n",
      "  1.47336960e-01 -1.21367902e-01  1.59893073e-02 -2.04992130e-01\n",
      "  2.75351740e-02  1.03301285e-02  6.07172400e-02 -4.66665457e-04\n",
      " -4.87327352e-02  2.06450179e-01  7.05765933e-02 -5.61871417e-02\n",
      "  1.58047631e-01 -1.63047202e-02  1.35154843e-01 -1.86852738e-01\n",
      "  5.18562570e-02 -2.57930458e-02  1.34185553e-01 -1.55932114e-01\n",
      "  2.39249200e-01  2.23387014e-02 -6.92212731e-02  2.04731911e-01\n",
      " -1.19246644e-04 -1.59213230e-01  6.33211434e-02 -1.02840215e-01\n",
      " -3.42224203e-02  2.76318006e-03  1.73561618e-01  4.40561734e-02\n",
      " -5.83726391e-02  1.18445838e-02 -1.36727929e-01  5.52119054e-02\n",
      "  6.96255779e-03  1.37998210e-02  8.46850723e-02 -7.12570772e-02\n",
      "  3.18778455e-02  1.02369726e-01  4.50545885e-02  1.47673339e-01\n",
      "  2.00196609e-01 -2.06412643e-01 -2.17960998e-01  1.68666407e-01\n",
      " -4.55043418e-03  1.30076289e-01 -1.15085073e-01 -1.41767055e-01\n",
      " -2.80904680e-01  1.68505102e-01 -3.77543345e-02 -2.73994863e-01\n",
      " -5.74143715e-02 -1.14531368e-01 -1.93023682e-02  1.06037833e-01\n",
      " -8.79405141e-02  1.14677839e-01  1.13848425e-01  5.14808809e-03\n",
      "  1.05827935e-01  1.53328001e-01 -1.47440210e-01 -5.91687672e-03\n",
      " -2.63595611e-01  9.55851004e-02 -1.55700490e-01  7.29417726e-02\n",
      "  3.34952742e-01 -1.79920837e-01 -1.27554342e-01 -1.59697667e-01\n",
      " -2.47336909e-01  7.65627325e-02  1.26322836e-01 -1.63733244e-01\n",
      "  2.69039143e-02  2.23681271e-01  1.66812778e-01 -2.31107518e-01\n",
      "  1.44083705e-02  7.38842338e-02 -3.03786006e-02  1.24272086e-01\n",
      " -4.74211201e-03  1.94929466e-01 -2.33790144e-01  2.50558406e-02\n",
      "  1.70304671e-01 -4.72039059e-02 -5.21946140e-02  2.28444725e-01\n",
      "  3.18435133e-02 -1.91930071e-01 -6.38451567e-03 -5.24877235e-02\n",
      "  4.15121764e-02  1.24273300e-01 -2.91881233e-01  2.38772467e-01\n",
      " -2.83564627e-02  1.13235690e-01  1.38104856e-01 -2.56024927e-01\n",
      "  5.40150627e-02 -1.07805923e-01  1.42346537e-02 -2.70997196e-01\n",
      "  2.02833936e-02 -1.30993500e-01 -1.09816864e-01 -1.10200845e-01\n",
      "  7.77821988e-02  1.88772455e-01 -1.54454699e-02 -1.42890781e-01\n",
      " -2.49538288e-01 -5.50736673e-03 -1.77595288e-01 -8.48461017e-02\n",
      "  3.82858254e-02 -1.61463413e-02 -1.31925568e-01  9.47923288e-02\n",
      " -1.76232636e-01  1.14725724e-01  1.11104742e-01 -2.63986349e-01\n",
      "  3.89621593e-02  2.88256124e-04 -1.70743406e-01  5.00290021e-02\n",
      "  1.44987673e-01 -5.77701591e-02 -1.17028408e-01 -5.87752238e-02\n",
      "  1.19090587e-01 -3.52837712e-01 -1.45529836e-01  1.48572937e-01\n",
      "  5.78666478e-02 -1.21593021e-01 -1.11986876e-01 -4.78135645e-02\n",
      " -7.17123300e-02  7.89799392e-02  1.57507345e-01  3.26350868e-01\n",
      "  1.46830738e-01  3.42431255e-02  9.01886001e-02 -6.28335848e-02\n",
      " -2.30528399e-01 -6.62810877e-02 -5.68992049e-02  1.07099794e-01\n",
      " -9.73720029e-02  1.06340759e-01 -9.02430788e-02  4.81730029e-02\n",
      "  3.93173434e-02 -5.56466095e-02 -8.17982629e-02  1.04984507e-01\n",
      " -3.70279737e-02 -1.23051785e-01 -2.46460736e-01  7.55538745e-03]\n"
     ]
    }
   ],
   "source": [
    "# Vector of help\n",
    "help_vec = w2v_model.wv[\"help\"]\n",
    "print(help_vec)"
   ]
  },
  {
   "cell_type": "code",
   "execution_count": 17,
   "metadata": {},
   "outputs": [],
   "source": [
    "import numpy as np\n",
    "import matplotlib.pyplot as plt\n",
    " \n",
    "from sklearn.manifold import TSNE\n",
    "\n",
    "def display_closestwords_tsnescatterplot(model, word):\n",
    "    \n",
    "    arr = np.empty((0,300), dtype='f')\n",
    "    word_labels = [word]\n",
    "\n",
    "    # get close words\n",
    "    close_words = model.similar_by_word(word)\n",
    "    \n",
    "    # add the vector for each of the closest words to the array\n",
    "    arr = np.append(arr, np.array([model[word]]), axis=0)\n",
    "    for wrd_score in close_words:\n",
    "        wrd_vector = model[wrd_score[0]]\n",
    "        word_labels.append(wrd_score[0])\n",
    "        arr = np.append(arr, np.array([wrd_vector]), axis=0)\n",
    "        \n",
    "    # find tsne coords for 2 dimensions\n",
    "    tsne = TSNE(n_components=2, random_state=0)\n",
    "    np.set_printoptions(suppress=True)\n",
    "    Y = tsne.fit_transform(arr)\n",
    "\n",
    "    x_coords = Y[:, 0]\n",
    "    y_coords = Y[:, 1]\n",
    "    # display scatter plot\n",
    "    plt.scatter(x_coords, y_coords)\n",
    "\n",
    "    for label, x, y in zip(word_labels, x_coords, y_coords):\n",
    "        plt.annotate(label, xy=(x, y), xytext=(0, 0), textcoords='offset points')\n",
    "    plt.xlim(x_coords.min()+0.00005, x_coords.max()+0.00005)\n",
    "    plt.ylim(y_coords.min()+0.00005, y_coords.max()+0.00005)\n",
    "    plt.show()"
   ]
  },
  {
   "cell_type": "code",
   "execution_count": 21,
   "metadata": {},
   "outputs": [
    {
     "name": "stderr",
     "output_type": "stream",
     "text": [
      "C:\\Users\\ranadhir.ghosh\\AppData\\Local\\Continuum\\anaconda3\\lib\\site-packages\\ipykernel_launcher.py:12: DeprecationWarning: Call to deprecated `similar_by_word` (Method will be removed in 4.0.0, use self.wv.similar_by_word() instead).\n",
      "  if sys.path[0] == '':\n",
      "C:\\Users\\ranadhir.ghosh\\AppData\\Local\\Continuum\\anaconda3\\lib\\site-packages\\ipykernel_launcher.py:15: DeprecationWarning: Call to deprecated `__getitem__` (Method will be removed in 4.0.0, use self.wv.__getitem__() instead).\n",
      "  from ipykernel import kernelapp as app\n",
      "C:\\Users\\ranadhir.ghosh\\AppData\\Local\\Continuum\\anaconda3\\lib\\site-packages\\ipykernel_launcher.py:17: DeprecationWarning: Call to deprecated `__getitem__` (Method will be removed in 4.0.0, use self.wv.__getitem__() instead).\n"
     ]
    },
    {
     "data": {
      "image/png": "[encoded data removed]",
      "text/plain": [
       "<Figure size 432x288 with 1 Axes>"
      ]
     },
     "metadata": {
      "needs_background": "light"
     },
     "output_type": "display_data"
    }
   ],
   "source": [
    "display_closestwords_tsnescatterplot(w2v_model, 'help')"
   ]
  },
  {
   "cell_type": "code",
   "execution_count": 18,
   "metadata": {},
   "outputs": [],
   "source": [
    "# Saving the model\n",
    "w2v_model.save(\"test_word2vec.bin\")\n",
    "\n",
    "# Loading the saved model\n",
    "w2v_model = Word2Vec.load(\"test_word2vec.bin\")"
   ]
  },
  {
   "cell_type": "code",
   "execution_count": null,
   "metadata": {},
   "outputs": [],
   "source": []
  }
 ],
 "metadata": {
  "kernelspec": {
   "display_name": "Python 3",
   "language": "python",
   "name": "python3"
  },
  "language_info": {
   "codemirror_mode": {
    "name": "ipython",
    "version": 3
   },
   "file_extension": ".py",
   "mimetype": "text/x-python",
   "name": "python",
   "nbconvert_exporter": "python",
   "pygments_lexer": "ipython3",
   "version": "3.7.3"
  }
 },
 "nbformat": 4,
 "nbformat_minor": 2
}
