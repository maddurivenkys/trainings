{
 "cells": [
  {
   "cell_type": "code",
   "execution_count": 2,
   "metadata": {},
   "outputs": [],
   "source": [
    "import numpy as np\n",
    "import nltk\n",
    "from nltk import bigrams\n",
    "import itertools\n",
    "import pandas as pd"
   ]
  },
  {
   "cell_type": "code",
   "execution_count": 3,
   "metadata": {},
   "outputs": [
    {
     "data": {
      "text/plain": [
       "['Where',\n",
       " 'Python',\n",
       " 'is',\n",
       " 'used',\n",
       " 'What',\n",
       " 'is',\n",
       " 'Pythonused',\n",
       " 'in',\n",
       " 'Why',\n",
       " 'Python',\n",
       " 'is',\n",
       " 'best',\n",
       " 'What',\n",
       " 'companies',\n",
       " 'use',\n",
       " 'Python']"
      ]
     },
     "execution_count": 3,
     "metadata": {},
     "output_type": "execute_result"
    }
   ],
   "source": [
    "text_data = [['Where', 'Python', 'is', 'used'],\n",
    "             ['What', 'is', 'Python' 'used', 'in'],\n",
    "             ['Why', 'Python', 'is', 'best'],\n",
    "             ['What', 'companies', 'use', 'Python']]\n",
    "data = list(itertools.chain.from_iterable(text_data))\n",
    "data"
   ]
  },
  {
   "cell_type": "code",
   "execution_count": 4,
   "metadata": {},
   "outputs": [
    {
     "data": {
      "text/plain": [
       "{'Python',\n",
       " 'Pythonused',\n",
       " 'What',\n",
       " 'Where',\n",
       " 'Why',\n",
       " 'best',\n",
       " 'companies',\n",
       " 'in',\n",
       " 'is',\n",
       " 'use',\n",
       " 'used'}"
      ]
     },
     "execution_count": 4,
     "metadata": {},
     "output_type": "execute_result"
    }
   ],
   "source": [
    "vocab = set(data)\n",
    "vocab"
   ]
  },
  {
   "cell_type": "code",
   "execution_count": 5,
   "metadata": {},
   "outputs": [
    {
     "data": {
      "text/plain": [
       "['is',\n",
       " 'companies',\n",
       " 'Pythonused',\n",
       " 'in',\n",
       " 'used',\n",
       " 'use',\n",
       " 'best',\n",
       " 'Why',\n",
       " 'Where',\n",
       " 'Python',\n",
       " 'What']"
      ]
     },
     "execution_count": 5,
     "metadata": {},
     "output_type": "execute_result"
    }
   ],
   "source": [
    "vocab = list(vocab)\n",
    "vocab"
   ]
  },
  {
   "cell_type": "code",
   "execution_count": 9,
   "metadata": {},
   "outputs": [
    {
     "data": {
      "text/plain": [
       "{'is': 0,\n",
       " 'companies': 1,\n",
       " 'Pythonused': 2,\n",
       " 'in': 3,\n",
       " 'used': 4,\n",
       " 'use': 5,\n",
       " 'best': 6,\n",
       " 'Why': 7,\n",
       " 'Where': 8,\n",
       " 'Python': 9,\n",
       " 'What': 10}"
      ]
     },
     "execution_count": 9,
     "metadata": {},
     "output_type": "execute_result"
    }
   ],
   "source": [
    "vocab_index = {word: i for i, word in enumerate(vocab)}\n",
    "vocab_index"
   ]
  },
  {
   "cell_type": "code",
   "execution_count": 7,
   "metadata": {},
   "outputs": [
    {
     "data": {
      "text/plain": [
       "[('Where', 'Python'),\n",
       " ('Python', 'is'),\n",
       " ('is', 'used'),\n",
       " ('used', 'What'),\n",
       " ('What', 'is'),\n",
       " ('is', 'Pythonused'),\n",
       " ('Pythonused', 'in'),\n",
       " ('in', 'Why'),\n",
       " ('Why', 'Python'),\n",
       " ('Python', 'is'),\n",
       " ('is', 'best'),\n",
       " ('best', 'What'),\n",
       " ('What', 'companies'),\n",
       " ('companies', 'use'),\n",
       " ('use', 'Python')]"
      ]
     },
     "execution_count": 7,
     "metadata": {},
     "output_type": "execute_result"
    }
   ],
   "source": [
    "bi_grams = list(bigrams(data))\n",
    "bi_grams"
   ]
  },
  {
   "cell_type": "code",
   "execution_count": 8,
   "metadata": {},
   "outputs": [
    {
     "data": {
      "text/plain": [
       "[(('Python', 'is'), 2),\n",
       " (('Where', 'Python'), 1),\n",
       " (('is', 'used'), 1),\n",
       " (('used', 'What'), 1),\n",
       " (('What', 'is'), 1),\n",
       " (('is', 'Pythonused'), 1),\n",
       " (('Pythonused', 'in'), 1),\n",
       " (('in', 'Why'), 1),\n",
       " (('Why', 'Python'), 1),\n",
       " (('is', 'best'), 1),\n",
       " (('best', 'What'), 1),\n",
       " (('What', 'companies'), 1),\n",
       " (('companies', 'use'), 1),\n",
       " (('use', 'Python'), 1)]"
      ]
     },
     "execution_count": 8,
     "metadata": {},
     "output_type": "execute_result"
    }
   ],
   "source": [
    "bigram_freq = nltk.FreqDist(bi_grams).most_common(len(bi_grams))\n",
    "bigram_freq"
   ]
  },
  {
   "cell_type": "code",
   "execution_count": 10,
   "metadata": {},
   "outputs": [
    {
     "name": "stdout",
     "output_type": "stream",
     "text": [
      "(('Python', 'is'), 2)\n",
      "(('Where', 'Python'), 1)\n",
      "(('is', 'used'), 1)\n",
      "(('used', 'What'), 1)\n",
      "(('What', 'is'), 1)\n",
      "(('is', 'Pythonused'), 1)\n",
      "(('Pythonused', 'in'), 1)\n",
      "(('in', 'Why'), 1)\n",
      "(('Why', 'Python'), 1)\n",
      "(('is', 'best'), 1)\n",
      "(('best', 'What'), 1)\n",
      "(('What', 'companies'), 1)\n",
      "(('companies', 'use'), 1)\n",
      "(('use', 'Python'), 1)\n"
     ]
    },
    {
     "data": {
      "text/plain": [
       "matrix([[0., 0., 0., 0., 0., 0., 0., 0., 0., 2., 1.],\n",
       "        [0., 0., 0., 0., 0., 0., 0., 0., 0., 0., 1.],\n",
       "        [1., 0., 0., 0., 0., 0., 0., 0., 0., 0., 0.],\n",
       "        [0., 0., 1., 0., 0., 0., 0., 0., 0., 0., 0.],\n",
       "        [1., 0., 0., 0., 0., 0., 0., 0., 0., 0., 0.],\n",
       "        [0., 1., 0., 0., 0., 0., 0., 0., 0., 0., 0.],\n",
       "        [1., 0., 0., 0., 0., 0., 0., 0., 0., 0., 0.],\n",
       "        [0., 0., 0., 1., 0., 0., 0., 0., 0., 0., 0.],\n",
       "        [0., 0., 0., 0., 0., 0., 0., 0., 0., 0., 0.],\n",
       "        [0., 0., 0., 0., 0., 1., 0., 1., 1., 0., 0.],\n",
       "        [0., 0., 0., 0., 1., 0., 1., 0., 0., 0., 0.]])"
      ]
     },
     "execution_count": 10,
     "metadata": {},
     "output_type": "execute_result"
    }
   ],
   "source": [
    "import numpy as np\n",
    "\n",
    "co_occurrence_matrix = np.zeros((len(vocab), len(vocab)))\n",
    "\n",
    "for bigram in bigram_freq:\n",
    "    print (bigram)\n",
    "    current = bigram[0][1]\n",
    "    previous = bigram[0][0]\n",
    "    count = bigram[1]\n",
    "    pos_current = vocab_index[current]\n",
    "    pos_previous = vocab_index[previous]\n",
    "    co_occurrence_matrix[pos_current][pos_previous] = count\n",
    "co_occurrence_matrix = np.matrix(co_occurrence_matrix)\n",
    "co_occurrence_matrix"
   ]
  },
  {
   "cell_type": "code",
   "execution_count": null,
   "metadata": {},
   "outputs": [],
   "source": []
  }
 ],
 "metadata": {
  "kernelspec": {
   "display_name": "Python 3",
   "language": "python",
   "name": "python3"
  },
  "language_info": {
   "codemirror_mode": {
    "name": "ipython",
    "version": 3
   },
   "file_extension": ".py",
   "mimetype": "text/x-python",
   "name": "python",
   "nbconvert_exporter": "python",
   "pygments_lexer": "ipython3",
   "version": "3.7.3"
  }
 },
 "nbformat": 4,
 "nbformat_minor": 2
}
