{
 "cells": [
  {
   "cell_type": "code",
   "execution_count": 4,
   "metadata": {},
   "outputs": [],
   "source": [
    "from gensim.models.doc2vec import Doc2Vec, TaggedDocument\n",
    "from nltk.tokenize import word_tokenize"
   ]
  },
  {
   "cell_type": "code",
   "execution_count": 5,
   "metadata": {},
   "outputs": [],
   "source": [
    "sample_text = \"\"\"Miss Brill is the story of an old woman told brilliantly and realistically, balancing thoughts and emotions \n",
    "that sustain her late solitary life amidst all the bustle of modern life. Miss Brill is a regular visitor on Sundays to the\n",
    "Jardins Publiques (the Public Gardens) of a small French suburb where she sits and watches all sorts of people come and go. \n",
    "She listens to the band playing, loves to watch people and guess what keeps them going and enjoys contemplating the world as a \n",
    "great stage upon which actors perform. She finds herself to be another actor among the so many she sees, or at least herself \n",
    "as 'part of the performance after all.'...One Sunday Miss Brill puts on her fur and goes to the Public Gardens as usual.\n",
    "The evening ends with her sudden realization that she is old and lonely, a realization brought to her by a conversation she\n",
    "overhears between a boy and a girl presumably lovers, who comment on her unwelcome presence in their vicinity. \n",
    "Miss Brill is sad and depressed as she returns home, not stopping by as usual to buy her Sunday delicacy, a slice of honey-cake.\n",
    "She retires to her dark room, puts the fur back into the box and imagines that she has heard something cry.\"\"\""
   ]
  },
  {
   "cell_type": "code",
   "execution_count": 6,
   "metadata": {},
   "outputs": [
    {
     "name": "stdout",
     "output_type": "stream",
     "text": [
      "['Miss Brill is the story of an old woman told brilliantly and realistically, balancing thoughts and emotions that sustain her late solitary life amidst all the bustle of modern life.', 'Miss Brill is a regular visitor on Sundays to theJardins Publiques (the Public Gardens) of a small French suburb where she sits and watches all sorts of people come and go.', 'She listens to the band playing, loves to watch people and guess what keeps them going and enjoys contemplating the world as a great stage upon which actors perform.', \"She finds herself to be another actor among the so many she sees, or at least herself as 'part of the performance after all.\", \"'...One Sunday Miss Brill puts on her fur and goes to the Public Gardens as usual.\", 'The evening ends with her sudden realization that she is old and lonely, a realization brought to her by a conversation sheoverhears between a boy and a girl presumably lovers, who comment on her unwelcome presence in their vicinity.', 'Miss Brill is sad and depressed as she returns home, not stopping by as usual to buy her Sunday delicacy, a slice of honey-cake.', 'She retires to her dark room, puts the fur back into the box and imagines that she has heard something cry.']\n"
     ]
    }
   ],
   "source": [
    "from nltk.tokenize import sent_tokenize\n",
    "\n",
    "sentences = sent_tokenize(sample_text)\n",
    "updated = []\n",
    "for sentence in sentences:\n",
    "    sentence  = sentence.replace(\"\\n\", \"\")\n",
    "    updated.append(sentence)\n",
    "print(updated)"
   ]
  },
  {
   "cell_type": "code",
   "execution_count": 7,
   "metadata": {},
   "outputs": [],
   "source": [
    "tagged_data = [TaggedDocument(words=word_tokenize(_d.lower()), tags=[str(i)]) for i, _d in enumerate(updated)]"
   ]
  },
  {
   "cell_type": "code",
   "execution_count": 8,
   "metadata": {},
   "outputs": [
    {
     "name": "stderr",
     "output_type": "stream",
     "text": [
      "C:\\Users\\e1077926\\AppData\\Local\\Continuum\\anaconda3\\lib\\site-packages\\gensim\\models\\doc2vec.py:574: UserWarning: The parameter `size` is deprecated, will be removed in 4.0.0, use `vector_size` instead.\n",
      "  warnings.warn(\"The parameter `size` is deprecated, will be removed in 4.0.0, use `vector_size` instead.\")\n",
      "C:\\Users\\e1077926\\AppData\\Local\\Continuum\\anaconda3\\lib\\site-packages\\ipykernel_launcher.py:17: DeprecationWarning: Call to deprecated `iter` (Attribute will be removed in 4.0.0, use self.epochs instead).\n"
     ]
    }
   ],
   "source": [
    "max_epochs = 100\n",
    "vec_size = 10\n",
    "alpha = 0.025\n",
    "\n",
    "model = Doc2Vec(size=vec_size,\n",
    "                alpha=alpha, \n",
    "                min_alpha=0.00025,\n",
    "                min_count=1,\n",
    "                dm =1)\n",
    "  \n",
    "model.build_vocab(tagged_data)\n",
    "\n",
    "for epoch in range(max_epochs):\n",
    "    #print('iteration {0}'.format(epoch))\n",
    "    model.train(tagged_data,\n",
    "                total_examples=model.corpus_count,\n",
    "                epochs=model.iter)\n",
    "    # decrease the learning rate\n",
    "    model.alpha -= 0.0002\n",
    "    # fix the learning rate, no decay\n",
    "    model.min_alpha = model.alpha\n",
    "\n",
    "#model.save(\"d2v1.model\")\n",
    "#print(\"Model Saved\")"
   ]
  },
  {
   "cell_type": "code",
   "execution_count": 9,
   "metadata": {},
   "outputs": [
    {
     "name": "stdout",
     "output_type": "stream",
     "text": [
      "8\n"
     ]
    }
   ],
   "source": [
    "print(len(model.docvecs))"
   ]
  },
  {
   "cell_type": "code",
   "execution_count": 10,
   "metadata": {},
   "outputs": [],
   "source": [
    "x = []\n",
    "for index in range(len(model.docvecs)): \n",
    "    x.append(model.docvecs[index])"
   ]
  },
  {
   "cell_type": "code",
   "execution_count": 64,
   "metadata": {},
   "outputs": [
    {
     "data": {
      "image/png": "[encoded data removed]",
      "text/plain": [
       "<Figure size 432x288 with 1 Axes>"
      ]
     },
     "metadata": {
      "needs_background": "light"
     },
     "output_type": "display_data"
    }
   ],
   "source": [
    "from sklearn.cluster import KMeans\n",
    "import matplotlib.pyplot as pl\n",
    "\n",
    "Nc = range(1, 8)\n",
    "kmeans = [KMeans(n_clusters=i) for i in Nc]\n",
    "kmeans\n",
    "score = [kmeans[i].fit(x).score(x) for i in range(len(kmeans))]\n",
    "score\n",
    "pl.plot(Nc,score)\n",
    "pl.xlabel('Number of Clusters')\n",
    "pl.ylabel('Score')\n",
    "pl.title('Elbow Curve')\n",
    "pl.show()"
   ]
  },
  {
   "cell_type": "code",
   "execution_count": 12,
   "metadata": {},
   "outputs": [
    {
     "name": "stdout",
     "output_type": "stream",
     "text": [
      "[0 1 0 0 1 2 1 1]\n",
      "[[ 2.24783583  3.00287328 -2.25509501 -3.84544253 -0.25973082  2.0035314\n",
      "  -1.39657887 -5.28017171 -2.35843877  0.45746191]\n",
      " [-2.52979656 -0.98214096 -0.36267081 -3.13841757 -2.58069775  0.01430187\n",
      "   1.38760418 -3.13209867 -1.26829146  3.78195983]\n",
      " [-0.30792403  1.41127253 -4.14077425  1.4793061  -0.58815116 -0.96642268\n",
      "  -0.95589173 -8.61404705  7.20870209  3.36097264]]\n"
     ]
    }
   ],
   "source": [
    "model = KMeans(n_clusters = 3)\n",
    "model.fit(x)\n",
    "labels = model.labels_\n",
    "print(labels)\n",
    "centroids = model.cluster_centers_\n",
    "print(centroids )\n",
    "#labels = kmeans.predict(x)\n",
    "#centroids = kmeans.cluster_centers_\n",
    "#print(labels)"
   ]
  },
  {
   "cell_type": "code",
   "execution_count": 13,
   "metadata": {},
   "outputs": [
    {
     "name": "stdout",
     "output_type": "stream",
     "text": [
      "[0 1 2]\n"
     ]
    }
   ],
   "source": [
    "import numpy as np \n",
    "\n",
    "cluster_arr = np.array(labels) \n",
    "cluster = np.unique(cluster_arr) \n",
    "print(cluster)\n",
    "        "
   ]
  },
  {
   "cell_type": "code",
   "execution_count": 69,
   "metadata": {},
   "outputs": [
    {
     "name": "stdout",
     "output_type": "stream",
     "text": [
      "Miss Brill is sad and depressed as she returns home, not stopping by as usual to buy her Sunday delicacy, a slice of honey-cake.\n"
     ]
    }
   ],
   "source": [
    "print(updated[i-1])"
   ]
  },
  {
   "cell_type": "code",
   "execution_count": 76,
   "metadata": {},
   "outputs": [
    {
     "name": "stdout",
     "output_type": "stream",
     "text": [
      "(3, 8)\n",
      "[[8.24271376e+00 8.08608291e+00 6.58542687e+00 9.99900000e+03\n",
      "  9.99900000e+03 9.99900000e+03 9.99900000e+03 9.99900000e+03]\n",
      " [8.57140841e+00 4.40791521e+00 6.45961030e+00 9.99900000e+03\n",
      "  9.99900000e+03 9.99900000e+03 9.99900000e+03 9.99900000e+03]\n",
      " [9.99900000e+03 9.99900000e+03 9.99900000e+03 9.99900000e+03\n",
      "  9.99900000e+03 9.99900000e+03 9.99900000e+03 9.99900000e+03]]\n",
      "[[0 2 3 0 0 0 0 0]\n",
      " [1 4 6 0 0 0 0 0]\n",
      " [5 0 0 0 0 0 0 0]]\n"
     ]
    }
   ],
   "source": [
    "from scipy.spatial import distance\n",
    "\n",
    "rows, cols = (len(cluster), len(x)) \n",
    "cluster_data=np.zeros((rows,cols))\n",
    "original_data = np.zeros((rows,cols), dtype = int)\n",
    "print(cluster_data.shape)\n",
    "row_counter = np.zeros(rows, dtype = int)\n",
    "\n",
    "for i in range(1,len(x)):\n",
    "    #print(i,labels[i-1],row_counter[labels[i-1]], distance.euclidean(x[i-1], centroids[labels[i-1]]))\n",
    "    \n",
    "    cluster_data[labels[i-1], row_counter[labels[i-1]]] = distance.euclidean(x[i-1], centroids[labels[i-1]])\n",
    "    #print(updated[i-1])\n",
    "    original_data[labels[i-1], row_counter[labels[i-1]]] = i-1                            \n",
    "    row_counter[labels[i-1]]= row_counter[labels[i-1]]+1\n",
    "    #print(original_data)\n",
    "    #print(cluster_data)\n",
    "    #print(row_counter)\n",
    "\n",
    "cluster_data[cluster_data == 0] = 9999\n",
    "print(cluster_data)\n",
    "print(original_data)\n",
    "    "
   ]
  },
  {
   "cell_type": "code",
   "execution_count": 88,
   "metadata": {},
   "outputs": [
    {
     "name": "stdout",
     "output_type": "stream",
     "text": [
      "[8.24271376e+00 8.08608291e+00 6.58542687e+00 9.99900000e+03\n",
      " 9.99900000e+03 9.99900000e+03 9.99900000e+03 9.99900000e+03] 6.585426874922403\n",
      "[2]\n",
      "[8.57140841e+00 4.40791521e+00 6.45961030e+00 9.99900000e+03\n",
      " 9.99900000e+03 9.99900000e+03 9.99900000e+03 9.99900000e+03] 4.407915209648761\n",
      "[1]\n",
      "[2 1 0]\n",
      "[3 4 0]\n",
      "[0 3 4]\n",
      "0 0\n",
      "0 Miss Brill is the story of an old woman told brilliantly and realistically, balancing thoughts and emotions that sustain her late solitary life amidst all the bustle of modern life.\n",
      "1 3\n",
      "1 She finds herself to be another actor among the so many she sees, or at least herself as 'part of the performance after all.\n",
      "2 4\n",
      "2 '...One Sunday Miss Brill puts on her fur and goes to the Public Gardens as usual.\n"
     ]
    }
   ],
   "source": [
    "result = np.zeros(rows, dtype = int)\n",
    "result_sent = np.zeros(rows, dtype = int)\n",
    "for i in range(1,len(cluster)):\n",
    "    #print(cluster_data[i-1,:])\n",
    "    arr = cluster_data[i-1,:]\n",
    "    print(arr,np.amin(arr) )\n",
    "    res = np.where(arr == np.amin(arr))\n",
    "    print(res[0])\n",
    "    result[i-1] = res[0]\n",
    "    result_sent[i-1] = original_data[i-1, res[0]]\n",
    "print(result)\n",
    "print(result_sent)\n",
    "result_sent.sort()\n",
    "print(result_sent)\n",
    "for i in range(0,len(result_sent)):\n",
    "    print(i, result_sent[i])\n",
    "    print(i, updated[result_sent[i]])\n"
   ]
  },
  {
   "cell_type": "code",
   "execution_count": null,
   "metadata": {},
   "outputs": [],
   "source": []
  }
 ],
 "metadata": {
  "kernelspec": {
   "display_name": "Python 3",
   "language": "python",
   "name": "python3"
  },
  "language_info": {
   "codemirror_mode": {
    "name": "ipython",
    "version": 3
   },
   "file_extension": ".py",
   "mimetype": "text/x-python",
   "name": "python",
   "nbconvert_exporter": "python",
   "pygments_lexer": "ipython3",
   "version": "3.7.3"
  }
 },
 "nbformat": 4,
 "nbformat_minor": 2
}
